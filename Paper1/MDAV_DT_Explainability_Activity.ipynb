{
  "nbformat": 4,
  "nbformat_minor": 0,
  "metadata": {
    "kernelspec": {
      "display_name": "Python 3",
      "language": "python",
      "name": "python3"
    },
    "language_info": {
      "codemirror_mode": {
        "name": "ipython",
        "version": 3
      },
      "file_extension": ".py",
      "mimetype": "text/x-python",
      "name": "python",
      "nbconvert_exporter": "python",
      "pygments_lexer": "ipython3",
      "version": "3.6.7"
    },
    "colab": {
      "name": "MDAV-DT-Explainability-Activity.ipynb",
      "provenance": [],
      "include_colab_link": true
    }
  },
  "cells": [
    {
      "cell_type": "markdown",
      "metadata": {
        "id": "view-in-github",
        "colab_type": "text"
      },
      "source": [
        "<a href=\"https://colab.research.google.com/github/bozorgpanah/The-Explainable-Machine-Learning-Model-withPrivacy/blob/main/Paper1/MDAV_DT_Explainability_Activity.ipynb\" target=\"_parent\"><img src=\"https://colab.research.google.com/assets/colab-badge.svg\" alt=\"Open In Colab\"/></a>"
      ]
    },
    {
      "cell_type": "code",
      "metadata": {
        "id": "ZGAekGTNz6HC",
        "outputId": "e903f846-2c12-4e6c-ba14-33e97745e198"
      },
      "source": [
        "import pandas as pd\n",
        "import matplotlib.pyplot as plt\n",
        "import numpy as np\n",
        "from sklearn.datasets import make_classification\n",
        "import scipy\n",
        "%matplotlib inline\n",
        "\n",
        "activity = pd.read_csv('./datasets/UCI PAMAP2/activity_3_rec.csv', \n",
        "                    sep=',')\n",
        "display(activity.info())"
      ],
      "execution_count": null,
      "outputs": [
        {
          "output_type": "stream",
          "text": [
            "<class 'pandas.core.frame.DataFrame'>\n",
            "RangeIndex: 1942872 entries, 0 to 1942871\n",
            "Data columns (total 44 columns):\n",
            "subject                    int64\n",
            "timestamp                  float64\n",
            "activityID                 int64\n",
            "motion                     object\n",
            "heart_rate                 float64\n",
            "temp_hand                  float64\n",
            "acceleration_16_x_hand     float64\n",
            "acceleration_16_y_hand     float64\n",
            "acceleration_16_z_hand     float64\n",
            "acceleration_6_x_hand      float64\n",
            "acceleration_6_y_hand      float64\n",
            "acceleration_6_z_hand      float64\n",
            "gyroscope_x_hand           float64\n",
            "gyroscope_y_hand           float64\n",
            "gyroscope_z_hand           float64\n",
            "magnetometer_x_hand        float64\n",
            "magnetometer_y_hand        float64\n",
            "magnetometer_z_hand        float64\n",
            "temp_chest                 float64\n",
            "acceleration_16_x_chest    float64\n",
            "acceleration_16_y_chest    float64\n",
            "acceleration_16_z_chest    float64\n",
            "acceleration_6_x_chest     float64\n",
            "acceleration_6_y_chest     float64\n",
            "acceleration_6_z_chest     float64\n",
            "gyroscope_x_chest          float64\n",
            "gyroscope_y_chest          float64\n",
            "gyroscope_z_chest          float64\n",
            "magnetometer_x_chest       float64\n",
            "magnetometer_y_chest       float64\n",
            "magnetometer_z_chest       float64\n",
            "temp_ankle                 float64\n",
            "acceleration_16_x_ankle    float64\n",
            "acceleration_16_y_ankle    float64\n",
            "acceleration_16_z_ankle    float64\n",
            "acceleration_6_x_ankle     float64\n",
            "acceleration_6_y_ankle     float64\n",
            "acceleration_6_z_ankle     float64\n",
            "gyroscope_x_ankle          float64\n",
            "gyroscope_y_ankle          float64\n",
            "gyroscope_z_ankle          float64\n",
            "magnetometer_x_ankle       float64\n",
            "magnetometer_y_ankle       float64\n",
            "magnetometer_z_ankle       float64\n",
            "dtypes: float64(41), int64(2), object(1)\n",
            "memory usage: 652.2+ MB\n"
          ],
          "name": "stdout"
        },
        {
          "output_type": "display_data",
          "data": {
            "text/plain": [
              "None"
            ]
          },
          "metadata": {
            "tags": []
          }
        }
      ]
    },
    {
      "cell_type": "code",
      "metadata": {
        "id": "fBU1Mstoz6HH",
        "outputId": "9cbcbee1-7b7f-477c-82cd-e558721401c2"
      },
      "source": [
        "display(len(activity))"
      ],
      "execution_count": null,
      "outputs": [
        {
          "output_type": "display_data",
          "data": {
            "text/plain": [
              "1942872"
            ]
          },
          "metadata": {
            "tags": []
          }
        }
      ]
    },
    {
      "cell_type": "code",
      "metadata": {
        "id": "qRPkrSWPz6HJ",
        "outputId": "0c873d40-4441-49b5-cfae-c73c30dc930f"
      },
      "source": [
        "to_drop = ['subject', 'timestamp', 'heart_rate']\n",
        "activity.drop(axis=1, columns=to_drop, inplace=True)\n",
        "\n",
        "display(activity.head())"
      ],
      "execution_count": null,
      "outputs": [
        {
          "output_type": "display_data",
          "data": {
            "text/html": [
              "<div>\n",
              "<style scoped>\n",
              "    .dataframe tbody tr th:only-of-type {\n",
              "        vertical-align: middle;\n",
              "    }\n",
              "\n",
              "    .dataframe tbody tr th {\n",
              "        vertical-align: top;\n",
              "    }\n",
              "\n",
              "    .dataframe thead th {\n",
              "        text-align: right;\n",
              "    }\n",
              "</style>\n",
              "<table border=\"1\" class=\"dataframe\">\n",
              "  <thead>\n",
              "    <tr style=\"text-align: right;\">\n",
              "      <th></th>\n",
              "      <th>activityID</th>\n",
              "      <th>motion</th>\n",
              "      <th>temp_hand</th>\n",
              "      <th>acceleration_16_x_hand</th>\n",
              "      <th>acceleration_16_y_hand</th>\n",
              "      <th>acceleration_16_z_hand</th>\n",
              "      <th>acceleration_6_x_hand</th>\n",
              "      <th>acceleration_6_y_hand</th>\n",
              "      <th>acceleration_6_z_hand</th>\n",
              "      <th>gyroscope_x_hand</th>\n",
              "      <th>...</th>\n",
              "      <th>acceleration_16_z_ankle</th>\n",
              "      <th>acceleration_6_x_ankle</th>\n",
              "      <th>acceleration_6_y_ankle</th>\n",
              "      <th>acceleration_6_z_ankle</th>\n",
              "      <th>gyroscope_x_ankle</th>\n",
              "      <th>gyroscope_y_ankle</th>\n",
              "      <th>gyroscope_z_ankle</th>\n",
              "      <th>magnetometer_x_ankle</th>\n",
              "      <th>magnetometer_y_ankle</th>\n",
              "      <th>magnetometer_z_ankle</th>\n",
              "    </tr>\n",
              "  </thead>\n",
              "  <tbody>\n",
              "    <tr>\n",
              "      <th>0</th>\n",
              "      <td>1</td>\n",
              "      <td>n</td>\n",
              "      <td>30.375</td>\n",
              "      <td>2.21530</td>\n",
              "      <td>8.27915</td>\n",
              "      <td>5.58753</td>\n",
              "      <td>2.24689</td>\n",
              "      <td>8.55387</td>\n",
              "      <td>5.77143</td>\n",
              "      <td>-0.004750</td>\n",
              "      <td>...</td>\n",
              "      <td>0.095156</td>\n",
              "      <td>9.63162</td>\n",
              "      <td>-1.76757</td>\n",
              "      <td>0.265761</td>\n",
              "      <td>0.002908</td>\n",
              "      <td>-0.027714</td>\n",
              "      <td>0.001752</td>\n",
              "      <td>-61.1081</td>\n",
              "      <td>-36.8636</td>\n",
              "      <td>-58.3696</td>\n",
              "    </tr>\n",
              "    <tr>\n",
              "      <th>1</th>\n",
              "      <td>1</td>\n",
              "      <td>n</td>\n",
              "      <td>30.375</td>\n",
              "      <td>2.29196</td>\n",
              "      <td>7.67288</td>\n",
              "      <td>5.74467</td>\n",
              "      <td>2.27373</td>\n",
              "      <td>8.14592</td>\n",
              "      <td>5.78739</td>\n",
              "      <td>-0.171710</td>\n",
              "      <td>...</td>\n",
              "      <td>-0.020804</td>\n",
              "      <td>9.58649</td>\n",
              "      <td>-1.75247</td>\n",
              "      <td>0.250816</td>\n",
              "      <td>0.020882</td>\n",
              "      <td>0.000945</td>\n",
              "      <td>0.006007</td>\n",
              "      <td>-60.8916</td>\n",
              "      <td>-36.3197</td>\n",
              "      <td>-58.3656</td>\n",
              "    </tr>\n",
              "    <tr>\n",
              "      <th>2</th>\n",
              "      <td>1</td>\n",
              "      <td>n</td>\n",
              "      <td>30.375</td>\n",
              "      <td>2.29090</td>\n",
              "      <td>7.14240</td>\n",
              "      <td>5.82342</td>\n",
              "      <td>2.26966</td>\n",
              "      <td>7.66268</td>\n",
              "      <td>5.78846</td>\n",
              "      <td>-0.238241</td>\n",
              "      <td>...</td>\n",
              "      <td>-0.059173</td>\n",
              "      <td>9.60196</td>\n",
              "      <td>-1.73721</td>\n",
              "      <td>0.356632</td>\n",
              "      <td>-0.035392</td>\n",
              "      <td>-0.052422</td>\n",
              "      <td>-0.004882</td>\n",
              "      <td>-60.3407</td>\n",
              "      <td>-35.7842</td>\n",
              "      <td>-58.6119</td>\n",
              "    </tr>\n",
              "    <tr>\n",
              "      <th>3</th>\n",
              "      <td>1</td>\n",
              "      <td>n</td>\n",
              "      <td>30.375</td>\n",
              "      <td>2.21800</td>\n",
              "      <td>7.14365</td>\n",
              "      <td>5.89930</td>\n",
              "      <td>2.22177</td>\n",
              "      <td>7.25535</td>\n",
              "      <td>5.88000</td>\n",
              "      <td>-0.192912</td>\n",
              "      <td>...</td>\n",
              "      <td>0.094385</td>\n",
              "      <td>9.58674</td>\n",
              "      <td>-1.78264</td>\n",
              "      <td>0.311453</td>\n",
              "      <td>-0.032514</td>\n",
              "      <td>-0.018844</td>\n",
              "      <td>0.026950</td>\n",
              "      <td>-60.7646</td>\n",
              "      <td>-37.1028</td>\n",
              "      <td>-57.8799</td>\n",
              "    </tr>\n",
              "    <tr>\n",
              "      <th>4</th>\n",
              "      <td>1</td>\n",
              "      <td>n</td>\n",
              "      <td>30.375</td>\n",
              "      <td>2.30106</td>\n",
              "      <td>7.25857</td>\n",
              "      <td>6.09259</td>\n",
              "      <td>2.20720</td>\n",
              "      <td>7.24042</td>\n",
              "      <td>5.95555</td>\n",
              "      <td>-0.069961</td>\n",
              "      <td>...</td>\n",
              "      <td>0.095775</td>\n",
              "      <td>9.64677</td>\n",
              "      <td>-1.75240</td>\n",
              "      <td>0.295902</td>\n",
              "      <td>0.001351</td>\n",
              "      <td>-0.048878</td>\n",
              "      <td>-0.006328</td>\n",
              "      <td>-60.2040</td>\n",
              "      <td>-37.1225</td>\n",
              "      <td>-57.8847</td>\n",
              "    </tr>\n",
              "  </tbody>\n",
              "</table>\n",
              "<p>5 rows × 41 columns</p>\n",
              "</div>"
            ],
            "text/plain": [
              "   activityID motion  temp_hand  acceleration_16_x_hand  \\\n",
              "0           1      n     30.375                 2.21530   \n",
              "1           1      n     30.375                 2.29196   \n",
              "2           1      n     30.375                 2.29090   \n",
              "3           1      n     30.375                 2.21800   \n",
              "4           1      n     30.375                 2.30106   \n",
              "\n",
              "   acceleration_16_y_hand  acceleration_16_z_hand  acceleration_6_x_hand  \\\n",
              "0                 8.27915                 5.58753                2.24689   \n",
              "1                 7.67288                 5.74467                2.27373   \n",
              "2                 7.14240                 5.82342                2.26966   \n",
              "3                 7.14365                 5.89930                2.22177   \n",
              "4                 7.25857                 6.09259                2.20720   \n",
              "\n",
              "   acceleration_6_y_hand  acceleration_6_z_hand  gyroscope_x_hand  \\\n",
              "0                8.55387                5.77143         -0.004750   \n",
              "1                8.14592                5.78739         -0.171710   \n",
              "2                7.66268                5.78846         -0.238241   \n",
              "3                7.25535                5.88000         -0.192912   \n",
              "4                7.24042                5.95555         -0.069961   \n",
              "\n",
              "           ...           acceleration_16_z_ankle  acceleration_6_x_ankle  \\\n",
              "0          ...                          0.095156                 9.63162   \n",
              "1          ...                         -0.020804                 9.58649   \n",
              "2          ...                         -0.059173                 9.60196   \n",
              "3          ...                          0.094385                 9.58674   \n",
              "4          ...                          0.095775                 9.64677   \n",
              "\n",
              "   acceleration_6_y_ankle  acceleration_6_z_ankle  gyroscope_x_ankle  \\\n",
              "0                -1.76757                0.265761           0.002908   \n",
              "1                -1.75247                0.250816           0.020882   \n",
              "2                -1.73721                0.356632          -0.035392   \n",
              "3                -1.78264                0.311453          -0.032514   \n",
              "4                -1.75240                0.295902           0.001351   \n",
              "\n",
              "   gyroscope_y_ankle  gyroscope_z_ankle  magnetometer_x_ankle  \\\n",
              "0          -0.027714           0.001752              -61.1081   \n",
              "1           0.000945           0.006007              -60.8916   \n",
              "2          -0.052422          -0.004882              -60.3407   \n",
              "3          -0.018844           0.026950              -60.7646   \n",
              "4          -0.048878          -0.006328              -60.2040   \n",
              "\n",
              "   magnetometer_y_ankle  magnetometer_z_ankle  \n",
              "0              -36.8636              -58.3696  \n",
              "1              -36.3197              -58.3656  \n",
              "2              -35.7842              -58.6119  \n",
              "3              -37.1028              -57.8799  \n",
              "4              -37.1225              -57.8847  \n",
              "\n",
              "[5 rows x 41 columns]"
            ]
          },
          "metadata": {
            "tags": []
          }
        }
      ]
    },
    {
      "cell_type": "code",
      "metadata": {
        "id": "n3XfJ_Ciz6HM",
        "outputId": "f4845519-54cc-44a7-efff-f84e485f212e"
      },
      "source": [
        "display(activity.isnull().sum())"
      ],
      "execution_count": null,
      "outputs": [
        {
          "output_type": "display_data",
          "data": {
            "text/plain": [
              "activityID                     0\n",
              "motion                         0\n",
              "temp_hand                  11124\n",
              "acceleration_16_x_hand     11124\n",
              "acceleration_16_y_hand     11124\n",
              "acceleration_16_z_hand     11124\n",
              "acceleration_6_x_hand      11124\n",
              "acceleration_6_y_hand      11124\n",
              "acceleration_6_z_hand      11124\n",
              "gyroscope_x_hand           11124\n",
              "gyroscope_y_hand           11124\n",
              "gyroscope_z_hand           11124\n",
              "magnetometer_x_hand        11124\n",
              "magnetometer_y_hand        11124\n",
              "magnetometer_z_hand        11124\n",
              "temp_chest                  2420\n",
              "acceleration_16_x_chest     2420\n",
              "acceleration_16_y_chest     2420\n",
              "acceleration_16_z_chest     2420\n",
              "acceleration_6_x_chest      2420\n",
              "acceleration_6_y_chest      2420\n",
              "acceleration_6_z_chest      2420\n",
              "gyroscope_x_chest           2420\n",
              "gyroscope_y_chest           2420\n",
              "gyroscope_z_chest           2420\n",
              "magnetometer_x_chest        2420\n",
              "magnetometer_y_chest        2420\n",
              "magnetometer_z_chest        2420\n",
              "temp_ankle                  8507\n",
              "acceleration_16_x_ankle     8507\n",
              "acceleration_16_y_ankle     8507\n",
              "acceleration_16_z_ankle     8507\n",
              "acceleration_6_x_ankle      8507\n",
              "acceleration_6_y_ankle      8507\n",
              "acceleration_6_z_ankle      8507\n",
              "gyroscope_x_ankle           8507\n",
              "gyroscope_y_ankle           8507\n",
              "gyroscope_z_ankle           8507\n",
              "magnetometer_x_ankle        8507\n",
              "magnetometer_y_ankle        8507\n",
              "magnetometer_z_ankle        8507\n",
              "dtype: int64"
            ]
          },
          "metadata": {
            "tags": []
          }
        }
      ]
    },
    {
      "cell_type": "code",
      "metadata": {
        "id": "0W-C5C1Zz6HO",
        "outputId": "c403956e-e5ac-420e-f337-782f5b002ae8"
      },
      "source": [
        "class_label = ['activityID', 'motion']\n",
        "predictors = [a for a in activity.columns.values if a not in class_label]\n",
        "\n",
        "for p in predictors:\n",
        "    activity[p].fillna(activity[p].mean(), inplace=True)\n",
        "\n",
        "display(predictors)\n",
        "for p in predictors:\n",
        "    activity[p] = (activity[p]-activity[p].min()) / (activity[p].max() - activity[p].min())\n",
        "    activity[p].astype('float32')\n",
        "    \n",
        "display(activity.isnull().sum())"
      ],
      "execution_count": null,
      "outputs": [
        {
          "output_type": "display_data",
          "data": {
            "text/plain": [
              "['temp_hand',\n",
              " 'acceleration_16_x_hand',\n",
              " 'acceleration_16_y_hand',\n",
              " 'acceleration_16_z_hand',\n",
              " 'acceleration_6_x_hand',\n",
              " 'acceleration_6_y_hand',\n",
              " 'acceleration_6_z_hand',\n",
              " 'gyroscope_x_hand',\n",
              " 'gyroscope_y_hand',\n",
              " 'gyroscope_z_hand',\n",
              " 'magnetometer_x_hand',\n",
              " 'magnetometer_y_hand',\n",
              " 'magnetometer_z_hand',\n",
              " 'temp_chest',\n",
              " 'acceleration_16_x_chest',\n",
              " 'acceleration_16_y_chest',\n",
              " 'acceleration_16_z_chest',\n",
              " 'acceleration_6_x_chest',\n",
              " 'acceleration_6_y_chest',\n",
              " 'acceleration_6_z_chest',\n",
              " 'gyroscope_x_chest',\n",
              " 'gyroscope_y_chest',\n",
              " 'gyroscope_z_chest',\n",
              " 'magnetometer_x_chest',\n",
              " 'magnetometer_y_chest',\n",
              " 'magnetometer_z_chest',\n",
              " 'temp_ankle',\n",
              " 'acceleration_16_x_ankle',\n",
              " 'acceleration_16_y_ankle',\n",
              " 'acceleration_16_z_ankle',\n",
              " 'acceleration_6_x_ankle',\n",
              " 'acceleration_6_y_ankle',\n",
              " 'acceleration_6_z_ankle',\n",
              " 'gyroscope_x_ankle',\n",
              " 'gyroscope_y_ankle',\n",
              " 'gyroscope_z_ankle',\n",
              " 'magnetometer_x_ankle',\n",
              " 'magnetometer_y_ankle',\n",
              " 'magnetometer_z_ankle']"
            ]
          },
          "metadata": {
            "tags": []
          }
        },
        {
          "output_type": "display_data",
          "data": {
            "text/plain": [
              "activityID                 0\n",
              "motion                     0\n",
              "temp_hand                  0\n",
              "acceleration_16_x_hand     0\n",
              "acceleration_16_y_hand     0\n",
              "acceleration_16_z_hand     0\n",
              "acceleration_6_x_hand      0\n",
              "acceleration_6_y_hand      0\n",
              "acceleration_6_z_hand      0\n",
              "gyroscope_x_hand           0\n",
              "gyroscope_y_hand           0\n",
              "gyroscope_z_hand           0\n",
              "magnetometer_x_hand        0\n",
              "magnetometer_y_hand        0\n",
              "magnetometer_z_hand        0\n",
              "temp_chest                 0\n",
              "acceleration_16_x_chest    0\n",
              "acceleration_16_y_chest    0\n",
              "acceleration_16_z_chest    0\n",
              "acceleration_6_x_chest     0\n",
              "acceleration_6_y_chest     0\n",
              "acceleration_6_z_chest     0\n",
              "gyroscope_x_chest          0\n",
              "gyroscope_y_chest          0\n",
              "gyroscope_z_chest          0\n",
              "magnetometer_x_chest       0\n",
              "magnetometer_y_chest       0\n",
              "magnetometer_z_chest       0\n",
              "temp_ankle                 0\n",
              "acceleration_16_x_ankle    0\n",
              "acceleration_16_y_ankle    0\n",
              "acceleration_16_z_ankle    0\n",
              "acceleration_6_x_ankle     0\n",
              "acceleration_6_y_ankle     0\n",
              "acceleration_6_z_ankle     0\n",
              "gyroscope_x_ankle          0\n",
              "gyroscope_y_ankle          0\n",
              "gyroscope_z_ankle          0\n",
              "magnetometer_x_ankle       0\n",
              "magnetometer_y_ankle       0\n",
              "magnetometer_z_ankle       0\n",
              "dtype: int64"
            ]
          },
          "metadata": {
            "tags": []
          }
        }
      ]
    },
    {
      "cell_type": "code",
      "metadata": {
        "id": "z59jH0P0z6HQ"
      },
      "source": [
        "X = np.array(activity.drop(axis=1, columns=class_label))\n",
        "y = np.array(activity['motion'])\n",
        "y = np.array(list(map(lambda x: 1 if x == 'y' else 0, y)))"
      ],
      "execution_count": null,
      "outputs": []
    },
    {
      "cell_type": "code",
      "metadata": {
        "id": "X-p5Acnnz6HS",
        "outputId": "a0232c52-26ff-49d6-9824-a58f20ae1542"
      },
      "source": [
        "display(sum(y))"
      ],
      "execution_count": null,
      "outputs": [
        {
          "output_type": "display_data",
          "data": {
            "text/plain": [
              "1136540"
            ]
          },
          "metadata": {
            "tags": []
          }
        }
      ]
    },
    {
      "cell_type": "code",
      "metadata": {
        "id": "BqPIrg-1z6HV"
      },
      "source": [
        "from sklearn.model_selection import train_test_split\n",
        "X_train, X_test, y_train, y_test = train_test_split(X, y, test_size=0.33, random_state=42)"
      ],
      "execution_count": null,
      "outputs": []
    },
    {
      "cell_type": "code",
      "metadata": {
        "id": "btZvxB1Ez6HX"
      },
      "source": [
        "def dist(x,y):\n",
        "    return np.linalg.norm(x-y)\n",
        "    #return scipy.spatial.distance.correlation(x,y)\n",
        "\n",
        "def poprow(arr,i):\n",
        "    pop = arr[i]\n",
        "    new_array = np.vstack((arr[:i],arr[i+1:]))\n",
        "    return new_array,pop\n",
        "\n",
        "def cluster(X, p, k, dist_to_xr):\n",
        "    #c = [p]\n",
        "    #D = np.column_stack((X,[dist(v[:-1],p[:-1]) for v in X]))\n",
        "    #D = D[D[:,-1].argsort()]\n",
        "    #D = np.delete(D, -1, 1)\n",
        "    #c.extend(D[:k-1])\n",
        "    #D = D[k-1:]\n",
        "\n",
        "    #xc = np.array([p[:-1] for p in c], copy=False, ndmin=2)\n",
        "    #yc = np.array([p[-1] for p in c], copy=False)\n",
        "    #cl = (xc, yc)\n",
        "    #return D, cl\n",
        "\n",
        "    c = [p]\n",
        "    if dist_to_xr == None:\n",
        "        distances = [dist(v[:-1],p[:-1]) for v in X]\n",
        "    else:\n",
        "        distances = dist_to_xr\n",
        "    \n",
        "    X = X[np.argpartition(distances, k-1)]\n",
        "    c.extend(X[:k-1])\n",
        "    X = X[k-1:]\n",
        "    \n",
        "    xc = np.array([p[:-1] for p in c], copy=False, ndmin=2)\n",
        "    yc = np.array([p[-1] for p in c], copy=False)\n",
        "    cl = (xc, yc)\n",
        "    \n",
        "    return X, cl\n",
        "\n",
        "def mdav(X, y, k):\n",
        "    D = np.column_stack((X,y))\n",
        "    clusters = []\n",
        "    while len(D) >= 3*k:\n",
        "        # Centroid\n",
        "        xm = np.mean(D, axis=0)\n",
        "        # Furthest from centroid\n",
        "        xri = np.argmax([dist(v[:-1],xm[:-1]) for v in D])\n",
        "        D, xr = poprow(D, xri)\n",
        "        # Furthest from furthest from centroid\n",
        "        dist_to_xr = [dist(v[:-1],xr[:-1]) for v in D]\n",
        "        xsi = np.argmax(dist_to_xr)\n",
        "        dist_to_xr = dist_to_xr[:xsi]+dist_to_xr[xsi+1:]\n",
        "        D, xs = poprow(D, xsi) \n",
        "\n",
        "        #cluster of xr\n",
        "        #distance list to xr is already computed to find xs, \n",
        "        #patch to remove a factor of n\n",
        "        D, c = cluster(D, xr, k, dist_to_xr)\n",
        "        clusters.append(c)\n",
        "        #cluster of xs\n",
        "        D, c = cluster(D, xs, k, None)\n",
        "        clusters.append(c)\n",
        "        \n",
        "    if len(D) >= 2*k and len(D) < 3*k:\n",
        "        # Centroid\n",
        "        xm = np.mean(D, axis=0)\n",
        "        # Furthest from centroid\n",
        "        xri = np.argmax([dist(v[:-1],xm[:-1]) for v in D])\n",
        "        D, xr = poprow(D, xri)\n",
        "        #cluster of xr\n",
        "        D, c = cluster(D, xr, k, None)\n",
        "        clusters.append(c)\n",
        "        \n",
        "        # rest of points\n",
        "        xc = np.array([p[:-1] for p in D[:]], copy=False, ndmin=2)\n",
        "        yc = np.array([p[-1] for p in D[:]], copy=False)\n",
        "        cl = (xc, yc)\n",
        "        clusters.append(cl)     \n",
        "    else:\n",
        "        # rest of points\n",
        "        xc = np.array([p[:-1] for p in D[:]], copy=False, ndmin=2)\n",
        "        yc = np.array([p[-1] for p in D[:]], copy=False)\n",
        "        cl = (xc, yc)\n",
        "        clusters.append(cl)\n",
        "    \n",
        "    centroids = np.array([np.mean(c[0],axis=0) for c in clusters], copy=False)\n",
        "    \n",
        "    return clusters, centroids\n",
        "\n",
        "from sklearn import tree\n",
        "def gen_explanations(clustering, max_depth=-1):\n",
        "    explanations = []\n",
        "    for cluster in clustering:\n",
        "        # Testing with max depth\n",
        "        if max_depth < 1:\n",
        "            exp = tree.DecisionTreeClassifier()\n",
        "        else:\n",
        "            exp = tree.DecisionTreeClassifier(max_depth=max_depth)\n",
        "        exp.fit(cluster[0],cluster[1])\n",
        "        explanations.append(exp) \n",
        "    return explanations\n",
        "\n",
        "def pre_explanations(explanations, centroids, X):\n",
        "    predictions = []\n",
        "    for sample in X:\n",
        "        #select the closest classifier\n",
        "        exp = explanations[np.argmin([dist(sample,c) for c in centroids])]\n",
        "        exp_pred = exp.predict([sample])\n",
        "        predictions.append(int(exp_pred[0]))\n",
        "    return predictions\n",
        "\n",
        "def pre_explanations_ext(explanations, centroids, X, T, n):\n",
        "    predictions = []\n",
        "    ret_exp = []\n",
        "    ret_cen = []\n",
        "    for sample, truth in zip(X,T):\n",
        "        #select the 3 closest classifiers\n",
        "        mins = np.array([dist(sample,c) for c in centroids]).argsort()[:n]\n",
        "        for m in mins:\n",
        "            exp = explanations[m]\n",
        "            exp_pred = exp.predict([sample])\n",
        "            if(exp_pred[0] == truth):\n",
        "                break\n",
        "        predictions.append(exp_pred[0])\n",
        "        ret_exp.append(exp)\n",
        "        ret_cen.append(centroids[m])\n",
        "    return predictions, ret_exp, ret_cen"
      ],
      "execution_count": null,
      "outputs": []
    },
    {
      "cell_type": "code",
      "metadata": {
        "id": "1aWquoRWz6HZ",
        "outputId": "3fdcf0d1-8963-48af-ded8-f41efc70a79d"
      },
      "source": [
        "import time\n",
        "exec_times = []\n",
        "\n",
        "# Generate clusters for different representativities\n",
        "representativity = [0.001, 0.005, 0.01, 0.05, 0.1, 0.15, 0.2, 0.25, 0.3]\n",
        "#representativity = [0.05]\n",
        "K = [int(len(X_train)*r) for r in representativity]\n",
        "clusterings = []\n",
        "centroids_of_clusterings = []\n",
        "for k in K:\n",
        "    start = time.time()\n",
        "\n",
        "    clustering, centroids = mdav(X_train, y_train, k)\n",
        "    clusterings.append(clustering)\n",
        "    centroids_of_clusterings.append(centroids)  \n",
        "    \n",
        "    end = time.time()\n",
        "    exec_times.append(end-start)\n",
        "    display(f'Time for k={k}: {end-start} seconds.') "
      ],
      "execution_count": null,
      "outputs": [
        {
          "output_type": "display_data",
          "data": {
            "text/plain": [
              "'Time for k=1301: 8880.893051147461 seconds.'"
            ]
          },
          "metadata": {
            "tags": []
          }
        },
        {
          "output_type": "display_data",
          "data": {
            "text/plain": [
              "'Time for k=6508: 1764.8877258300781 seconds.'"
            ]
          },
          "metadata": {
            "tags": []
          }
        },
        {
          "output_type": "display_data",
          "data": {
            "text/plain": [
              "'Time for k=13017: 895.1433162689209 seconds.'"
            ]
          },
          "metadata": {
            "tags": []
          }
        },
        {
          "output_type": "display_data",
          "data": {
            "text/plain": [
              "'Time for k=65086: 194.5633566379547 seconds.'"
            ]
          },
          "metadata": {
            "tags": []
          }
        },
        {
          "output_type": "display_data",
          "data": {
            "text/plain": [
              "'Time for k=130172: 100.35131597518921 seconds.'"
            ]
          },
          "metadata": {
            "tags": []
          }
        },
        {
          "output_type": "display_data",
          "data": {
            "text/plain": [
              "'Time for k=195258: 67.6688232421875 seconds.'"
            ]
          },
          "metadata": {
            "tags": []
          }
        },
        {
          "output_type": "display_data",
          "data": {
            "text/plain": [
              "'Time for k=260344: 52.83267617225647 seconds.'"
            ]
          },
          "metadata": {
            "tags": []
          }
        },
        {
          "output_type": "display_data",
          "data": {
            "text/plain": [
              "'Time for k=325431: 45.52449893951416 seconds.'"
            ]
          },
          "metadata": {
            "tags": []
          }
        },
        {
          "output_type": "display_data",
          "data": {
            "text/plain": [
              "'Time for k=390517: 35.0243034362793 seconds.'"
            ]
          },
          "metadata": {
            "tags": []
          }
        }
      ]
    },
    {
      "cell_type": "code",
      "metadata": {
        "id": "1t7R8U4rz6Hc"
      },
      "source": [
        "#there were som nans\n",
        "for i in range(len(clusterings)):\n",
        "    for j in range(len(clusterings[i])):\n",
        "        clusterings[i][j] = (np.nan_to_num(clusterings[i][j][0]), clusterings[i][j][1])"
      ],
      "execution_count": null,
      "outputs": []
    },
    {
      "cell_type": "code",
      "metadata": {
        "id": "IF9TaTspz6He"
      },
      "source": [
        "shallow = False\n",
        "clu_explanations = []\n",
        "for clustering in clusterings:\n",
        "    # Test with shallow trees depht=4\n",
        "    if shallow:\n",
        "        explanations = gen_explanations(clustering, 4)\n",
        "    else:\n",
        "        explanations = gen_explanations(clustering, -1)\n",
        "    clu_explanations.append(explanations)"
      ],
      "execution_count": null,
      "outputs": []
    },
    {
      "cell_type": "code",
      "metadata": {
        "scrolled": true,
        "id": "zrBsrxAZz6Hf",
        "outputId": "2bfbf8cb-277e-48ca-e122-8ec8a791425f"
      },
      "source": [
        "X_train = np.nan_to_num(X_train)\n",
        "y_train = np.nan_to_num(y_train)\n",
        "X_test = np.nan_to_num(X_test)\n",
        "y_test = np.nan_to_num(y_test)\n",
        "\n",
        "\n",
        "# Train blackbox model\n",
        "\n",
        "from sklearn.neural_network import MLPClassifier\n",
        "blackbox = MLPClassifier(hidden_layer_sizes=(100,100,100), max_iter=500, alpha=0.0001,\n",
        "                     solver='sgd', verbose=10,  random_state=21,tol=0.000000001)\n",
        "blackbox.fit(X_train, y_train)"
      ],
      "execution_count": null,
      "outputs": [
        {
          "output_type": "stream",
          "text": [
            "Iteration 1, loss = 0.31084960\n",
            "Iteration 2, loss = 0.14919491\n",
            "Iteration 3, loss = 0.09337780\n",
            "Iteration 4, loss = 0.07111013\n",
            "Iteration 5, loss = 0.06053635\n",
            "Iteration 6, loss = 0.05382380\n",
            "Iteration 7, loss = 0.04864873\n",
            "Iteration 8, loss = 0.04482344\n",
            "Iteration 9, loss = 0.04150527\n",
            "Iteration 10, loss = 0.03857450\n",
            "Iteration 11, loss = 0.03601902\n",
            "Iteration 12, loss = 0.03371667\n",
            "Iteration 13, loss = 0.03157243\n",
            "Iteration 14, loss = 0.02978300\n",
            "Iteration 15, loss = 0.02828225\n",
            "Iteration 16, loss = 0.02704164\n",
            "Iteration 17, loss = 0.02566488\n",
            "Iteration 18, loss = 0.02452784\n",
            "Iteration 19, loss = 0.02363187\n",
            "Iteration 20, loss = 0.02280014\n",
            "Iteration 21, loss = 0.02194103\n",
            "Iteration 22, loss = 0.02110946\n",
            "Iteration 23, loss = 0.02031833\n",
            "Iteration 24, loss = 0.01956121\n",
            "Iteration 25, loss = 0.01897488\n",
            "Iteration 26, loss = 0.01850355\n",
            "Iteration 27, loss = 0.01785438\n",
            "Iteration 28, loss = 0.01709117\n",
            "Iteration 29, loss = 0.01665754\n",
            "Iteration 30, loss = 0.01601355\n",
            "Iteration 31, loss = 0.01564496\n",
            "Iteration 32, loss = 0.01517348\n",
            "Iteration 33, loss = 0.01486677\n",
            "Iteration 34, loss = 0.01451316\n",
            "Iteration 35, loss = 0.01402916\n",
            "Iteration 36, loss = 0.01383689\n",
            "Iteration 37, loss = 0.01350529\n",
            "Iteration 38, loss = 0.01318761\n",
            "Iteration 39, loss = 0.01287912\n",
            "Iteration 40, loss = 0.01272907\n",
            "Iteration 41, loss = 0.01250179\n",
            "Iteration 42, loss = 0.01204489\n",
            "Iteration 43, loss = 0.01173560\n",
            "Iteration 44, loss = 0.01146697\n",
            "Iteration 45, loss = 0.01136018\n",
            "Iteration 46, loss = 0.01113003\n",
            "Iteration 47, loss = 0.01090475\n",
            "Iteration 48, loss = 0.01065327\n",
            "Iteration 49, loss = 0.01053628\n",
            "Iteration 50, loss = 0.01034430\n",
            "Iteration 51, loss = 0.01016050\n",
            "Iteration 52, loss = 0.01000045\n",
            "Iteration 53, loss = 0.00980059\n",
            "Iteration 54, loss = 0.00956800\n",
            "Iteration 55, loss = 0.00948763\n",
            "Iteration 56, loss = 0.00917815\n",
            "Iteration 57, loss = 0.00915902\n",
            "Iteration 58, loss = 0.00889209\n",
            "Iteration 59, loss = 0.00885662\n",
            "Iteration 60, loss = 0.00869809\n",
            "Iteration 61, loss = 0.00871018\n",
            "Iteration 62, loss = 0.00849790\n",
            "Iteration 63, loss = 0.00833877\n",
            "Iteration 64, loss = 0.00824323\n",
            "Iteration 65, loss = 0.00805939\n",
            "Iteration 66, loss = 0.00793285\n",
            "Iteration 67, loss = 0.00788125\n",
            "Iteration 68, loss = 0.00768666\n",
            "Iteration 69, loss = 0.00752499\n",
            "Iteration 70, loss = 0.00752815\n",
            "Iteration 71, loss = 0.00734610\n",
            "Iteration 72, loss = 0.00731419\n",
            "Iteration 73, loss = 0.00716679\n",
            "Iteration 74, loss = 0.00716834\n",
            "Iteration 75, loss = 0.00703179\n",
            "Iteration 76, loss = 0.00686777\n",
            "Iteration 77, loss = 0.00687470\n",
            "Iteration 78, loss = 0.00671782\n",
            "Iteration 79, loss = 0.00658352\n",
            "Iteration 80, loss = 0.00645896\n",
            "Iteration 81, loss = 0.00645974\n",
            "Iteration 82, loss = 0.00628102\n",
            "Iteration 83, loss = 0.00620739\n",
            "Iteration 84, loss = 0.00612980\n",
            "Iteration 85, loss = 0.00610140\n",
            "Iteration 86, loss = 0.00598677\n",
            "Iteration 87, loss = 0.00591449\n",
            "Iteration 88, loss = 0.00600187\n",
            "Iteration 89, loss = 0.00579734\n",
            "Iteration 90, loss = 0.00582461\n",
            "Iteration 91, loss = 0.00560147\n",
            "Iteration 92, loss = 0.00547334\n",
            "Iteration 93, loss = 0.00556239\n",
            "Iteration 94, loss = 0.00551173\n",
            "Iteration 95, loss = 0.00543524\n",
            "Iteration 96, loss = 0.00522481\n",
            "Iteration 97, loss = 0.00523447\n",
            "Iteration 98, loss = 0.00522606\n",
            "Iteration 99, loss = 0.00516856\n",
            "Iteration 100, loss = 0.00501829\n",
            "Iteration 101, loss = 0.00498093\n",
            "Iteration 102, loss = 0.00501604\n",
            "Iteration 103, loss = 0.00489713\n",
            "Iteration 104, loss = 0.00485628\n",
            "Iteration 105, loss = 0.00482911\n",
            "Iteration 106, loss = 0.00481455\n",
            "Iteration 107, loss = 0.00479769\n",
            "Iteration 108, loss = 0.00470349\n",
            "Iteration 109, loss = 0.00461334\n",
            "Iteration 110, loss = 0.00451591\n",
            "Iteration 111, loss = 0.00455125\n",
            "Iteration 112, loss = 0.00451417\n",
            "Iteration 113, loss = 0.00442140\n",
            "Iteration 114, loss = 0.00445226\n",
            "Iteration 115, loss = 0.00427243\n",
            "Iteration 116, loss = 0.00432847\n",
            "Iteration 117, loss = 0.00419745\n",
            "Iteration 118, loss = 0.00418013\n",
            "Iteration 119, loss = 0.00415056\n",
            "Iteration 120, loss = 0.00411789\n",
            "Iteration 121, loss = 0.00411276\n",
            "Iteration 122, loss = 0.00401035\n",
            "Iteration 123, loss = 0.00396101\n",
            "Iteration 124, loss = 0.00401563\n",
            "Iteration 125, loss = 0.00382039\n",
            "Iteration 126, loss = 0.00385579\n",
            "Iteration 127, loss = 0.00385298\n",
            "Iteration 128, loss = 0.00366805\n",
            "Iteration 129, loss = 0.00371067\n",
            "Iteration 130, loss = 0.00367573\n",
            "Iteration 131, loss = 0.00367448\n",
            "Iteration 132, loss = 0.00359901\n",
            "Iteration 133, loss = 0.00361765\n",
            "Iteration 134, loss = 0.00351984\n",
            "Iteration 135, loss = 0.00356263\n",
            "Iteration 136, loss = 0.00353607\n",
            "Iteration 137, loss = 0.00347843\n",
            "Iteration 138, loss = 0.00344811\n",
            "Iteration 139, loss = 0.00349176\n",
            "Iteration 140, loss = 0.00340368\n",
            "Iteration 141, loss = 0.00331912\n",
            "Iteration 142, loss = 0.00332820\n",
            "Iteration 143, loss = 0.00333919\n",
            "Iteration 144, loss = 0.00329446\n",
            "Iteration 145, loss = 0.00331363\n",
            "Iteration 146, loss = 0.00326531\n",
            "Iteration 147, loss = 0.00319136\n",
            "Iteration 148, loss = 0.00324355\n",
            "Iteration 149, loss = 0.00316880\n",
            "Iteration 150, loss = 0.00316048\n",
            "Iteration 151, loss = 0.00311083\n",
            "Iteration 152, loss = 0.00313983\n",
            "Iteration 153, loss = 0.00307270\n",
            "Iteration 154, loss = 0.00309881\n",
            "Iteration 155, loss = 0.00300312\n",
            "Iteration 156, loss = 0.00296956\n",
            "Iteration 157, loss = 0.00291557\n",
            "Iteration 158, loss = 0.00298153\n",
            "Iteration 159, loss = 0.00292261\n",
            "Iteration 160, loss = 0.00295265\n",
            "Iteration 161, loss = 0.00288919\n",
            "Iteration 162, loss = 0.00292567\n",
            "Iteration 163, loss = 0.00288362\n",
            "Iteration 164, loss = 0.00281807\n",
            "Iteration 165, loss = 0.00281133\n",
            "Iteration 166, loss = 0.00272096\n",
            "Iteration 167, loss = 0.00275648\n",
            "Iteration 168, loss = 0.00270887\n",
            "Iteration 169, loss = 0.00273412\n",
            "Iteration 170, loss = 0.00263876\n",
            "Iteration 171, loss = 0.00265771\n",
            "Iteration 172, loss = 0.00271478\n",
            "Iteration 173, loss = 0.00265880\n",
            "Iteration 174, loss = 0.00264045\n",
            "Iteration 175, loss = 0.00267450\n",
            "Iteration 176, loss = 0.00262617\n",
            "Iteration 177, loss = 0.00260628\n",
            "Iteration 178, loss = 0.00258513\n",
            "Iteration 179, loss = 0.00251609\n",
            "Iteration 180, loss = 0.00252155\n",
            "Iteration 181, loss = 0.00253514\n",
            "Iteration 182, loss = 0.00251927\n",
            "Iteration 183, loss = 0.00248530\n",
            "Iteration 184, loss = 0.00246237\n",
            "Iteration 185, loss = 0.00241585\n",
            "Iteration 186, loss = 0.00236443\n",
            "Iteration 187, loss = 0.00241257\n",
            "Iteration 188, loss = 0.00246247\n",
            "Iteration 189, loss = 0.00242280\n",
            "Iteration 190, loss = 0.00232560\n",
            "Iteration 191, loss = 0.00237526\n",
            "Iteration 192, loss = 0.00234198\n",
            "Iteration 193, loss = 0.00233975\n",
            "Iteration 194, loss = 0.00224951\n",
            "Iteration 195, loss = 0.00227822\n",
            "Iteration 196, loss = 0.00226993\n",
            "Iteration 197, loss = 0.00226618\n",
            "Iteration 198, loss = 0.00228784\n",
            "Iteration 199, loss = 0.00225672\n",
            "Iteration 200, loss = 0.00227393\n",
            "Iteration 201, loss = 0.00221736\n",
            "Iteration 202, loss = 0.00221012\n",
            "Iteration 203, loss = 0.00219303\n",
            "Iteration 204, loss = 0.00218117\n",
            "Iteration 205, loss = 0.00219764\n",
            "Iteration 206, loss = 0.00206843\n",
            "Iteration 207, loss = 0.00219323\n",
            "Iteration 208, loss = 0.00211268\n",
            "Iteration 209, loss = 0.00212933\n",
            "Iteration 210, loss = 0.00218278\n",
            "Iteration 211, loss = 0.00215459\n",
            "Iteration 212, loss = 0.00211686\n",
            "Iteration 213, loss = 0.00215517\n",
            "Iteration 214, loss = 0.00210266\n",
            "Iteration 215, loss = 0.00211054\n",
            "Iteration 216, loss = 0.00200118\n",
            "Iteration 217, loss = 0.00203521\n",
            "Iteration 218, loss = 0.00202128\n",
            "Iteration 219, loss = 0.00205725\n",
            "Iteration 220, loss = 0.00201679\n",
            "Iteration 221, loss = 0.00197899\n",
            "Iteration 222, loss = 0.00199217\n",
            "Iteration 223, loss = 0.00201589\n",
            "Iteration 224, loss = 0.00194423\n",
            "Iteration 225, loss = 0.00201120\n",
            "Iteration 226, loss = 0.00192950\n",
            "Iteration 227, loss = 0.00189282\n",
            "Iteration 228, loss = 0.00192029\n",
            "Iteration 229, loss = 0.00192517\n",
            "Iteration 230, loss = 0.00190564\n",
            "Iteration 231, loss = 0.00187725\n",
            "Iteration 232, loss = 0.00185083\n",
            "Iteration 233, loss = 0.00187281\n",
            "Iteration 234, loss = 0.00186856\n",
            "Iteration 235, loss = 0.00186149\n",
            "Iteration 236, loss = 0.00182179\n",
            "Iteration 237, loss = 0.00177067\n",
            "Iteration 238, loss = 0.00181017\n",
            "Iteration 239, loss = 0.00181351\n",
            "Iteration 240, loss = 0.00175096\n",
            "Iteration 241, loss = 0.00180706\n",
            "Iteration 242, loss = 0.00176524\n",
            "Iteration 243, loss = 0.00174478\n",
            "Iteration 244, loss = 0.00176783\n",
            "Iteration 245, loss = 0.00171992\n",
            "Iteration 246, loss = 0.00174431\n",
            "Iteration 247, loss = 0.00174750\n",
            "Iteration 248, loss = 0.00171890\n",
            "Iteration 249, loss = 0.00170165\n",
            "Iteration 250, loss = 0.00169543\n",
            "Iteration 251, loss = 0.00168887\n",
            "Iteration 252, loss = 0.00166325\n"
          ],
          "name": "stdout"
        },
        {
          "output_type": "stream",
          "text": [
            "Iteration 253, loss = 0.00171014\n",
            "Iteration 254, loss = 0.00166282\n",
            "Iteration 255, loss = 0.00168262\n",
            "Iteration 256, loss = 0.00164570\n",
            "Iteration 257, loss = 0.00160676\n",
            "Iteration 258, loss = 0.00158720\n",
            "Iteration 259, loss = 0.00160624\n",
            "Iteration 260, loss = 0.00162491\n",
            "Iteration 261, loss = 0.00165623\n",
            "Iteration 262, loss = 0.00163651\n",
            "Iteration 263, loss = 0.00159841\n",
            "Iteration 264, loss = 0.00162680\n",
            "Iteration 265, loss = 0.00154547\n",
            "Iteration 266, loss = 0.00163024\n",
            "Iteration 267, loss = 0.00156958\n",
            "Iteration 268, loss = 0.00158047\n",
            "Iteration 269, loss = 0.00158179\n",
            "Iteration 270, loss = 0.00154886\n",
            "Iteration 271, loss = 0.00154679\n",
            "Iteration 272, loss = 0.00152967\n",
            "Iteration 273, loss = 0.00153782\n",
            "Iteration 274, loss = 0.00157280\n",
            "Iteration 275, loss = 0.00158271\n",
            "Iteration 276, loss = 0.00150462\n",
            "Iteration 277, loss = 0.00153438\n",
            "Iteration 278, loss = 0.00152453\n",
            "Iteration 279, loss = 0.00147617\n",
            "Iteration 280, loss = 0.00149845\n",
            "Iteration 281, loss = 0.00148997\n",
            "Iteration 282, loss = 0.00147553\n",
            "Iteration 283, loss = 0.00144510\n",
            "Iteration 284, loss = 0.00144203\n",
            "Iteration 285, loss = 0.00143405\n",
            "Iteration 286, loss = 0.00150627\n",
            "Iteration 287, loss = 0.00144317\n",
            "Iteration 288, loss = 0.00141373\n",
            "Iteration 289, loss = 0.00143597\n",
            "Iteration 290, loss = 0.00144759\n",
            "Iteration 291, loss = 0.00140255\n",
            "Iteration 292, loss = 0.00139897\n",
            "Iteration 293, loss = 0.00141319\n",
            "Iteration 294, loss = 0.00142285\n",
            "Iteration 295, loss = 0.00139075\n",
            "Iteration 296, loss = 0.00138460\n",
            "Iteration 297, loss = 0.00140531\n",
            "Iteration 298, loss = 0.00142908\n",
            "Iteration 299, loss = 0.00140598\n",
            "Iteration 300, loss = 0.00136615\n",
            "Iteration 301, loss = 0.00140656\n",
            "Iteration 302, loss = 0.00141170\n",
            "Iteration 303, loss = 0.00135018\n",
            "Iteration 304, loss = 0.00144968\n",
            "Iteration 305, loss = 0.00134797\n",
            "Iteration 306, loss = 0.00134321\n",
            "Iteration 307, loss = 0.00133269\n",
            "Iteration 308, loss = 0.00135668\n",
            "Iteration 309, loss = 0.00130355\n",
            "Iteration 310, loss = 0.00135662\n",
            "Iteration 311, loss = 0.00134451\n",
            "Iteration 312, loss = 0.00135826\n",
            "Iteration 313, loss = 0.00127963\n",
            "Iteration 314, loss = 0.00127415\n",
            "Iteration 315, loss = 0.00131422\n",
            "Iteration 316, loss = 0.00125860\n",
            "Iteration 317, loss = 0.00125817\n",
            "Iteration 318, loss = 0.00127527\n",
            "Iteration 319, loss = 0.00126774\n",
            "Iteration 320, loss = 0.00132242\n",
            "Iteration 321, loss = 0.00124437\n",
            "Iteration 322, loss = 0.00128216\n",
            "Iteration 323, loss = 0.00127037\n",
            "Iteration 324, loss = 0.00132279\n",
            "Iteration 325, loss = 0.00125534\n",
            "Iteration 326, loss = 0.00122749\n",
            "Iteration 327, loss = 0.00125606\n",
            "Iteration 328, loss = 0.00127613\n",
            "Iteration 329, loss = 0.00127264\n",
            "Iteration 330, loss = 0.00125510\n",
            "Iteration 331, loss = 0.00126997\n",
            "Iteration 332, loss = 0.00121146\n",
            "Iteration 333, loss = 0.00126055\n",
            "Iteration 334, loss = 0.00121769\n",
            "Iteration 335, loss = 0.00123074\n",
            "Iteration 336, loss = 0.00122735\n",
            "Iteration 337, loss = 0.00121993\n",
            "Iteration 338, loss = 0.00119135\n",
            "Iteration 339, loss = 0.00120219\n",
            "Iteration 340, loss = 0.00118982\n",
            "Iteration 341, loss = 0.00115595\n",
            "Iteration 342, loss = 0.00123140\n",
            "Iteration 343, loss = 0.00116403\n",
            "Iteration 344, loss = 0.00118779\n",
            "Iteration 345, loss = 0.00119841\n",
            "Iteration 346, loss = 0.00115212\n",
            "Iteration 347, loss = 0.00118880\n",
            "Iteration 348, loss = 0.00118634\n",
            "Iteration 349, loss = 0.00120537\n",
            "Iteration 350, loss = 0.00119651\n",
            "Iteration 351, loss = 0.00118531\n",
            "Iteration 352, loss = 0.00117602\n",
            "Iteration 353, loss = 0.00112935\n",
            "Iteration 354, loss = 0.00115098\n",
            "Iteration 355, loss = 0.00113978\n",
            "Iteration 356, loss = 0.00112616\n",
            "Iteration 357, loss = 0.00116833\n",
            "Iteration 358, loss = 0.00113264\n",
            "Iteration 359, loss = 0.00116910\n",
            "Iteration 360, loss = 0.00112781\n",
            "Iteration 361, loss = 0.00112683\n",
            "Iteration 362, loss = 0.00110620\n",
            "Iteration 363, loss = 0.00116130\n",
            "Iteration 364, loss = 0.00111768\n",
            "Iteration 365, loss = 0.00115524\n",
            "Iteration 366, loss = 0.00110028\n",
            "Iteration 367, loss = 0.00113740\n",
            "Iteration 368, loss = 0.00104946\n",
            "Iteration 369, loss = 0.00116334\n",
            "Iteration 370, loss = 0.00109362\n",
            "Iteration 371, loss = 0.00111437\n",
            "Iteration 372, loss = 0.00105855\n",
            "Iteration 373, loss = 0.00110738\n",
            "Iteration 374, loss = 0.00106739\n",
            "Iteration 375, loss = 0.00106475\n",
            "Iteration 376, loss = 0.00108460\n",
            "Iteration 377, loss = 0.00106180\n",
            "Iteration 378, loss = 0.00107367\n",
            "Iteration 379, loss = 0.00108337\n",
            "Training loss did not improve more than tol=0.000000 for 10 consecutive epochs. Stopping.\n"
          ],
          "name": "stdout"
        },
        {
          "output_type": "execute_result",
          "data": {
            "text/plain": [
              "MLPClassifier(activation='relu', alpha=0.0001, batch_size='auto', beta_1=0.9,\n",
              "       beta_2=0.999, early_stopping=False, epsilon=1e-08,\n",
              "       hidden_layer_sizes=(100, 100, 100), learning_rate='constant',\n",
              "       learning_rate_init=0.001, max_iter=500, momentum=0.9,\n",
              "       n_iter_no_change=10, nesterovs_momentum=True, power_t=0.5,\n",
              "       random_state=21, shuffle=True, solver='sgd', tol=1e-09,\n",
              "       validation_fraction=0.1, verbose=10, warm_start=False)"
            ]
          },
          "metadata": {
            "tags": []
          },
          "execution_count": 12
        }
      ]
    },
    {
      "cell_type": "code",
      "metadata": {
        "id": "l0VP-7Ktz6Hh",
        "outputId": "8ca09f0a-3da5-4db6-ce1f-848fef16b57c"
      },
      "source": [
        "#Train big tree\n",
        "surrogate = tree.DecisionTreeClassifier()\n",
        "surrogate.fit(X_train,y_train)\n",
        "display(surrogate.score(X_test, y_test))\n",
        "display(surrogate.tree_.node_count)"
      ],
      "execution_count": null,
      "outputs": [
        {
          "output_type": "display_data",
          "data": {
            "text/plain": [
              "0.9980394542289768"
            ]
          },
          "metadata": {
            "tags": []
          }
        },
        {
          "output_type": "display_data",
          "data": {
            "text/plain": [
              "5335"
            ]
          },
          "metadata": {
            "tags": []
          }
        }
      ]
    },
    {
      "cell_type": "code",
      "metadata": {
        "id": "igDoA1Bbz6Hj"
      },
      "source": [
        "truth = y_test\n",
        "blackbox_predictions = blackbox.predict(X_test)\n",
        "surrogate_predictions = surrogate.predict(X_test)"
      ],
      "execution_count": null,
      "outputs": []
    },
    {
      "cell_type": "code",
      "metadata": {
        "id": "cy4Htc3lz6Hl"
      },
      "source": [
        "explanation_predictions = []\n",
        "explanation_ext_predictions = []\n",
        "for i in range(len(clu_explanations)):\n",
        "    p = pre_explanations(clu_explanations[i], centroids_of_clusterings[i], X_test)\n",
        "    q,_,_ = pre_explanations_ext(clu_explanations[i], centroids_of_clusterings[i], X_test, blackbox_predictions, 3)\n",
        "    explanation_predictions.append(p)\n",
        "    explanation_ext_predictions.append(q)"
      ],
      "execution_count": null,
      "outputs": []
    },
    {
      "cell_type": "code",
      "metadata": {
        "scrolled": true,
        "id": "QtdvOBb5z6Hn",
        "outputId": "c436ad7c-0ebf-4fc0-b421-2c7bd5e2970a"
      },
      "source": [
        "# acc = TP+TN/all\n",
        "acc_blackbox = np.mean([t==p for t,p in zip(truth, blackbox_predictions)])\n",
        "acc_surrogate = np.mean([t==p for t,p in zip(truth, surrogate_predictions)])\n",
        "acc_explanations = []\n",
        "for i in range(len(explanation_predictions)):\n",
        "    acc_explanations.append(np.mean([t==p for t,p in zip(truth, explanation_predictions[i])]))\n",
        "    \n",
        "acc_explanations_ext = []\n",
        "for i in range(len(explanation_ext_predictions)):\n",
        "    acc_explanations_ext.append(np.mean([t==p for t,p in zip(truth, explanation_ext_predictions[i])]))\n",
        "\n",
        "acc_cross = []\n",
        "for i in range(len(explanation_predictions)):\n",
        "    acc_cross.append(np.mean([t==p for t,p in zip(blackbox_predictions, explanation_predictions[i])]))\n",
        "\n",
        "acc_cross_ext = []\n",
        "for i in range(len(explanation_predictions)):\n",
        "    acc_cross_ext.append(np.mean([t==p for t,p in zip(blackbox_predictions, explanation_ext_predictions[i])]))\n",
        "\n",
        "display(acc_blackbox)\n",
        "display(acc_surrogate)\n",
        "display(acc_explanations)\n",
        "display(acc_explanations_ext)\n",
        "display(acc_cross)\n",
        "display(acc_cross_ext)"
      ],
      "execution_count": null,
      "outputs": [
        {
          "output_type": "display_data",
          "data": {
            "text/plain": [
              "0.9996553057952298"
            ]
          },
          "metadata": {
            "tags": []
          }
        },
        {
          "output_type": "display_data",
          "data": {
            "text/plain": [
              "0.9980394542289768"
            ]
          },
          "metadata": {
            "tags": []
          }
        },
        {
          "output_type": "display_data",
          "data": {
            "text/plain": [
              "[0.9937050415816628,\n",
              " 0.9874022846519056,\n",
              " 0.981687535483227,\n",
              " 0.9610495548609681,\n",
              " 0.9428915008703139,\n",
              " 0.9491693025635267,\n",
              " 0.8965277907752968,\n",
              " 0.9301908451714737,\n",
              " 0.9217356990897577]"
            ]
          },
          "metadata": {
            "tags": []
          }
        },
        {
          "output_type": "display_data",
          "data": {
            "text/plain": [
              "[0.9992529026059506,\n",
              " 0.9988910516760561,\n",
              " 0.9981127602363261,\n",
              " 0.9970318865534946,\n",
              " 0.9964173638535876,\n",
              " 0.9924993917161092,\n",
              " 0.9902175472745762,\n",
              " 0.9954035573689695,\n",
              " 0.9896201812997935]"
            ]
          },
          "metadata": {
            "tags": []
          }
        },
        {
          "output_type": "display_data",
          "data": {
            "text/plain": [
              "[0.9935911833149288,\n",
              " 0.9873196204308522,\n",
              " 0.9816423041169902,\n",
              " 0.9610791892043646,\n",
              " 0.9429804039005034,\n",
              " 0.9490835189379051,\n",
              " 0.8965917385689419,\n",
              " 0.9301424944006688,\n",
              " 0.9217528558148821]"
            ]
          },
          "metadata": {
            "tags": []
          }
        },
        {
          "output_type": "display_data",
          "data": {
            "text/plain": [
              "[0.9993418056361402,\n",
              " 0.9991172085072402,\n",
              " 0.9983482752812143,\n",
              " 0.9972674015983829,\n",
              " 0.9966435206847717,\n",
              " 0.9926038917691391,\n",
              " 0.9905029727925534,\n",
              " 0.9956515500321299,\n",
              " 0.9898868903903623]"
            ]
          },
          "metadata": {
            "tags": []
          }
        }
      ]
    },
    {
      "cell_type": "code",
      "metadata": {
        "id": "zTb6-Tc9z6Hp"
      },
      "source": [
        "min_nodes = []\n",
        "max_nodes = []\n",
        "mean_nodes = []\n",
        "median_nodes = []\n",
        "n_counts = []\n",
        "for explanations in clu_explanations:\n",
        "    node_counts = [exp.tree_.node_count for exp in explanations]\n",
        "    n_counts.append(node_counts)\n",
        "    min_nodes.append(np.min(node_counts))\n",
        "    max_nodes.append(np.max(node_counts))\n",
        "    mean_nodes.append(np.mean(node_counts))\n",
        "    median_nodes.append(np.median(node_counts))"
      ],
      "execution_count": null,
      "outputs": []
    },
    {
      "cell_type": "code",
      "metadata": {
        "id": "duLgv_IYz6Hr",
        "outputId": "e8ddcd06-61d0-4c25-b698-382e6d1093f8"
      },
      "source": [
        "import matplotlib.pyplot as plt\n",
        "from scipy.interpolate import make_interp_spline, BSpline\n",
        "\n",
        "representativity = [0.001, 0.005, 0.01, 0.05, 0.1, 0.15, 0.2, 0.25, 0.3]\n",
        "representativity = list([r*100 for r in representativity])\n",
        "representativity = representativity\n",
        "\n",
        "xnew = np.linspace(min(representativity),max(representativity),300)\n",
        "spl = make_interp_spline(representativity, acc_explanations, k=3) #BSpline object\n",
        "ynew = spl(xnew)\n",
        "\n",
        "spl = make_interp_spline(representativity, acc_explanations_ext, k=3) #BSpline object\n",
        "ynew4 = spl(xnew)\n",
        "\n",
        "acc_blackbox_const = [acc_blackbox]*len(representativity)\n",
        "spl = make_interp_spline(representativity, acc_blackbox_const, k=3) #BSpline object\n",
        "ynew2 = spl(xnew)\n",
        "\n",
        "big_tree = [acc_surrogate]*len(representativity)\n",
        "spl = make_interp_spline(representativity, big_tree, k=3) #BSpline object\n",
        "ynew6 = spl(xnew)\n",
        "\n",
        "spl = make_interp_spline(representativity, acc_cross, k=3) #BSpline object\n",
        "ynew3 = spl(xnew)\n",
        "\n",
        "spl = make_interp_spline(representativity, acc_cross_ext, k=3) #BSpline object\n",
        "ynew5 = spl(xnew)\n",
        "\n",
        "spl = make_interp_spline(representativity, exec_times, k=3)\n",
        "ynew7 = spl(xnew)\n",
        "\n",
        "plt.figure(figsize=(9,7))\n",
        "#plt.plot(xnew,ynew2,linestyle='-',linewidth=3,color='k',label='ANN')\n",
        "#plt.plot(xnew,ynew6,linestyle='-.',linewidth=3,color='k',label='Global DT')\n",
        "#plt.plot(xnew,ynew,linestyle=':',linewidth=3,color='k',label='Unguided DT')\n",
        "#plt.plot(xnew,ynew4,linestyle='--',linewidth=3,color='k',label='Guided DT')\n",
        "\n",
        "plt.plot(representativity,acc_blackbox_const,linestyle='-',linewidth=3,color='k',label='ANN')\n",
        "plt.plot(representativity,big_tree,linestyle='-.',linewidth=3,color='k',label='Global DT')\n",
        "plt.plot(representativity,acc_explanations,linestyle=':',linewidth=3,color='k',label='Unguided DT')\n",
        "plt.plot(representativity,acc_explanations_ext,linestyle='--',linewidth=3,color='k',label='Guided DT')\n",
        "\n",
        "plt.legend(handlelength=4)\n",
        "plt.ylim(0.875,1)\n",
        "plt.xlabel('% of records per cluster')\n",
        "plt.ylabel('classification accuracy')\n",
        "plt.grid()\n",
        "plt.show()\n",
        "plt.close()"
      ],
      "execution_count": null,
      "outputs": [
        {
          "output_type": "display_data",
          "data": {
            "image/png": "[encoded data removed]",
            "text/plain": [
              "<Figure size 648x504 with 1 Axes>"
            ]
          },
          "metadata": {
            "tags": [],
            "needs_background": "light"
          }
        }
      ]
    },
    {
      "cell_type": "code",
      "metadata": {
        "id": "cjVFEipez6Ht",
        "outputId": "944afd84-bb52-472a-a82e-b88694819bc8"
      },
      "source": [
        "plt.figure(figsize=(9,7))\n",
        "#plt.plot(xnew,ynew3,linestyle='-',linewidth=3,color='k',label='Unguided DT w.r.t. ANN predictions')\n",
        "#plt.plot(xnew,ynew5,linestyle=':',linewidth=3,color='k',label='Guided DT w.r.t. ANN predictions')\n",
        "\n",
        "plt.plot(representativity,acc_cross,linestyle=':',linewidth=3,color='k',label='Unguided DT w.r.t. ANN predictions')\n",
        "plt.plot(representativity,acc_cross_ext,linestyle='--',linewidth=3,color='k',label='Guided DT w.r.t. ANN predictions')\n",
        "\n",
        "plt.legend()\n",
        "plt.ylim(0.875,1)\n",
        "plt.xlabel('% of records per cluster')\n",
        "plt.ylabel('classification accuracy')\n",
        "plt.grid()\n",
        "plt.show()\n",
        "plt.close()"
      ],
      "execution_count": null,
      "outputs": [
        {
          "output_type": "display_data",
          "data": {
            "image/png": "[encoded data removed]",
            "text/plain": [
              "<Figure size 648x504 with 1 Axes>"
            ]
          },
          "metadata": {
            "tags": [],
            "needs_background": "light"
          }
        }
      ]
    },
    {
      "cell_type": "code",
      "metadata": {
        "id": "5Xj80i0zz6Hv",
        "outputId": "d73762b2-f953-4fa2-cb46-18a7c4825218"
      },
      "source": [
        "plt.figure(figsize=(9,7))\n",
        "plt.boxplot(n_counts[:9])\n",
        "locs, _ = plt.xticks()\n",
        "plt.xticks(locs, representativity)\n",
        "#plt.yscale('log')\n",
        "plt.xlabel('% of records per cluster')\n",
        "plt.ylabel('number of nodes')\n",
        "#plt.ylabel('number of nodes (log scale)')\n",
        "plt.grid()\n",
        "plt.show()\n",
        "plt.close()"
      ],
      "execution_count": null,
      "outputs": [
        {
          "output_type": "display_data",
          "data": {
            "image/png": "[encoded data removed]",
            "text/plain": [
              "<Figure size 648x504 with 1 Axes>"
            ]
          },
          "metadata": {
            "tags": [],
            "needs_background": "light"
          }
        }
      ]
    },
    {
      "cell_type": "code",
      "metadata": {
        "id": "5FOGyVIDz6Hx",
        "outputId": "e939efd9-e738-4bc6-a19f-864d063d8e77"
      },
      "source": [
        "plt.figure(figsize=(9,7))\n",
        "plt.plot(representativity,exec_times,linestyle='-',linewidth=3,color='k')\n",
        "\n",
        "plt.legend()\n",
        "plt.xlabel('% of records per cluster')\n",
        "plt.ylabel('execution time (s)')\n",
        "plt.grid()\n",
        "plt.show()\n",
        "plt.close()"
      ],
      "execution_count": null,
      "outputs": [
        {
          "output_type": "stream",
          "text": [
            "No handles with labels found to put in legend.\n"
          ],
          "name": "stderr"
        },
        {
          "output_type": "display_data",
          "data": {
            "image/png": "[encoded data removed]",
            "text/plain": [
              "<Figure size 648x504 with 1 Axes>"
            ]
          },
          "metadata": {
            "tags": [],
            "needs_background": "light"
          }
        }
      ]
    },
    {
      "cell_type": "code",
      "metadata": {
        "id": "IHq9z_Z-z6Hz"
      },
      "source": [
        ""
      ],
      "execution_count": null,
      "outputs": []
    }
  ]
}