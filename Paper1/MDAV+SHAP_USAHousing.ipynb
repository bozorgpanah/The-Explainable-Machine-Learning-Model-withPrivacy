{
  "nbformat": 4,
  "nbformat_minor": 0,
  "metadata": {
    "colab": {
      "name": "MDAV+SHAP_USAHousing.ipynb",
      "provenance": [],
      "collapsed_sections": [],
      "authorship_tag": "ABX9TyMegBsHixbwqfNDhTbGxOdP",
      "include_colab_link": true
    },
    "kernelspec": {
      "name": "python3",
      "display_name": "Python 3"
    }
  },
  "cells": [
    {
      "cell_type": "markdown",
      "metadata": {
        "id": "view-in-github",
        "colab_type": "text"
      },
      "source": [
        "<a href=\"https://colab.research.google.com/github/bozorgpanah/The-Explainable-Machine-Learning-Model-withPrivacy/blob/main/Paper1/MDAV%2BSHAP_USAHousing.ipynb\" target=\"_parent\"><img src=\"https://colab.research.google.com/assets/colab-badge.svg\" alt=\"Open In Colab\"/></a>"
      ]
    },
    {
      "cell_type": "code",
      "metadata": {
        "id": "Uxdtbu78O1-2"
      },
      "source": [
        "\"\"\"\n",
        "MDAV\n",
        "SHAP\n",
        "ON\n",
        "USAHousing\n",
        "\"\"\""
      ],
      "execution_count": null,
      "outputs": []
    },
    {
      "cell_type": "code",
      "metadata": {
        "id": "zFU23gSjsBJe",
        "colab": {
          "resources": {
            "http://localhost:8080/nbextensions/google.colab/files.js": {
              "data": "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",
              "ok": true,
              "headers": [
                [
                  "content-type",
                  "application/javascript"
                ]
              ],
              "status": 200,
              "status_text": ""
            }
          },
          "base_uri": "https://localhost:8080/",
          "height": 73
        },
        "outputId": "6d09b6bb-73c8-4d3c-8b3f-c836826adea6"
      },
      "source": [
        "#Uploading a dataset from local drive to colab\n",
        "from google.colab import files\n",
        "uploaded = files.upload()"
      ],
      "execution_count": null,
      "outputs": [
        {
          "output_type": "display_data",
          "data": {
            "text/html": [
              "\n",
              "     <input type=\"file\" id=\"files-de62d5c9-a0b2-4185-bbb9-cd2e82b2c692\" name=\"files[]\" multiple disabled\n",
              "        style=\"border:none\" />\n",
              "     <output id=\"result-de62d5c9-a0b2-4185-bbb9-cd2e82b2c692\">\n",
              "      Upload widget is only available when the cell has been executed in the\n",
              "      current browser session. Please rerun this cell to enable.\n",
              "      </output>\n",
              "      <script src=\"/nbextensions/google.colab/files.js\"></script> "
            ],
            "text/plain": [
              "<IPython.core.display.HTML object>"
            ]
          },
          "metadata": {
            "tags": []
          }
        },
        {
          "output_type": "stream",
          "text": [
            "Saving USA_Housing.csv to USA_Housing.csv\n"
          ],
          "name": "stdout"
        }
      ]
    },
    {
      "cell_type": "code",
      "metadata": {
        "id": "q7Cj56XfRZO2",
        "colab": {
          "base_uri": "https://localhost:8080/"
        },
        "outputId": "b189ae61-f126-40a2-a7c8-b1ff42d80d3f"
      },
      "source": [
        "import numpy as np # linear algebra\n",
        "import pandas as pd # data processing, CSV file I/O (e.g. pd.read_csv)\n",
        "import matplotlib.pyplot as plt # data visualization\n",
        "import seaborn as sns # statistical data visualization\n",
        "import io\n",
        "\n",
        "##Reading dataset\n",
        "df = pd.read_csv(io.BytesIO(uploaded['USA_Housing.csv'])) #Dataset's name == housing.csv\n",
        "# Dataset is now stored in a Pandas Dataframe\n",
        "df.info()\n",
        "\n",
        "\n",
        "# now check for missing values in total bedrooms\n",
        "df.isnull().sum()\n",
        "# ------------------------------------------------------------------\n"
      ],
      "execution_count": null,
      "outputs": [
        {
          "output_type": "stream",
          "text": [
            "<class 'pandas.core.frame.DataFrame'>\n",
            "RangeIndex: 5000 entries, 0 to 4999\n",
            "Data columns (total 7 columns):\n",
            " #   Column                        Non-Null Count  Dtype  \n",
            "---  ------                        --------------  -----  \n",
            " 0   Avg. Area Income              5000 non-null   float64\n",
            " 1   Avg. Area House Age           5000 non-null   float64\n",
            " 2   Avg. Area Number of Rooms     5000 non-null   float64\n",
            " 3   Avg. Area Number of Bedrooms  5000 non-null   float64\n",
            " 4   Area Population               5000 non-null   float64\n",
            " 5   Price                         5000 non-null   float64\n",
            " 6   Address                       5000 non-null   object \n",
            "dtypes: float64(6), object(1)\n",
            "memory usage: 273.6+ KB\n"
          ],
          "name": "stdout"
        },
        {
          "output_type": "execute_result",
          "data": {
            "text/plain": [
              "Avg. Area Income                0\n",
              "Avg. Area House Age             0\n",
              "Avg. Area Number of Rooms       0\n",
              "Avg. Area Number of Bedrooms    0\n",
              "Area Population                 0\n",
              "Price                           0\n",
              "Address                         0\n",
              "dtype: int64"
            ]
          },
          "metadata": {
            "tags": []
          },
          "execution_count": 2
        }
      ]
    },
    {
      "cell_type": "code",
      "metadata": {
        "id": "7wsJL9auRfyE",
        "colab": {
          "base_uri": "https://localhost:8080/"
        },
        "outputId": "c4de1f93-5931-4d6a-c3a5-32d780c181a1"
      },
      "source": [
        "##Feature Vector and Target Variable\n",
        "X = df[['Avg. Area Income','Avg. Area House Age','Avg. Area Number of Rooms','Avg. Area Number of Bedrooms', 'Area Population','Price']] #Feature Vector\n",
        "y = df['Price'] #Target Variable\n",
        "\n",
        "##Splitting the data into train and test data\n",
        "from sklearn.model_selection import train_test_split\n",
        "X_train, X_test, y_train, y_test = train_test_split(X, y, test_size = 0.3, random_state = 0)\n",
        "\n",
        "print(X_train,y_train)\n",
        "print(\"####################################################################################################\")\n",
        "print(X_test,y_test)"
      ],
      "execution_count": null,
      "outputs": [
        {
          "output_type": "stream",
          "text": [
            "      Avg. Area Income  Avg. Area House Age  ...  Area Population         Price\n",
            "2858       77947.46436             6.441789  ...      29660.79658  1.539129e+06\n",
            "1559       69931.40110             6.099507  ...      52079.18818  1.389287e+06\n",
            "1441       65841.30879             5.587065  ...      48253.27664  1.029862e+06\n",
            "2179       73682.48621             4.611184  ...      34366.18010  7.660784e+05\n",
            "1390       72813.80169             8.543764  ...      35014.84821  1.727007e+06\n",
            "...                ...                  ...  ...              ...           ...\n",
            "4931       77622.95812             6.738014  ...      51102.44195  1.599997e+06\n",
            "3264       80051.84712             5.872678  ...      35254.12832  1.354609e+06\n",
            "1653       67094.19707             5.346437  ...      30022.53717  1.202993e+06\n",
            "2607       52541.31985             4.885243  ...      41258.26229  8.429859e+05\n",
            "2732       86762.88286             6.530193  ...      47724.58136  1.571254e+06\n",
            "\n",
            "[3500 rows x 6 columns] 2858    1.539129e+06\n",
            "1559    1.389287e+06\n",
            "1441    1.029862e+06\n",
            "2179    7.660784e+05\n",
            "1390    1.727007e+06\n",
            "            ...     \n",
            "4931    1.599997e+06\n",
            "3264    1.354609e+06\n",
            "1653    1.202993e+06\n",
            "2607    8.429859e+05\n",
            "2732    1.571254e+06\n",
            "Name: Price, Length: 3500, dtype: float64\n",
            "####################################################################################################\n",
            "      Avg. Area Income  Avg. Area House Age  ...  Area Population         Price\n",
            "398        61200.72618             5.299694  ...      42789.69222  8.942511e+05\n",
            "3833       63380.81467             5.344664  ...      40217.33358  9.329794e+05\n",
            "4836       71208.26930             5.300326  ...      25696.36174  9.207479e+05\n",
            "4572       50343.76352             6.027468  ...      27445.87674  6.918549e+05\n",
            "636        54535.45372             5.278065  ...      30852.20701  7.327332e+05\n",
            "...                ...                  ...  ...              ...           ...\n",
            "4554       75654.77702             7.077079  ...      49451.17854  1.900789e+06\n",
            "4807       81742.85139             5.796218  ...      40562.49877  1.630435e+06\n",
            "1073       63324.58162             7.725266  ...      43281.57274  1.372994e+06\n",
            "2906       54673.52118             4.496193  ...      39160.55327  7.707706e+05\n",
            "1357       40185.73389             5.949763  ...      37766.66757  5.292821e+05\n",
            "\n",
            "[1500 rows x 6 columns] 398     8.942511e+05\n",
            "3833    9.329794e+05\n",
            "4836    9.207479e+05\n",
            "4572    6.918549e+05\n",
            "636     7.327332e+05\n",
            "            ...     \n",
            "4554    1.900789e+06\n",
            "4807    1.630435e+06\n",
            "1073    1.372994e+06\n",
            "2906    7.707706e+05\n",
            "1357    5.292821e+05\n",
            "Name: Price, Length: 1500, dtype: float64\n"
          ],
          "name": "stdout"
        }
      ]
    },
    {
      "cell_type": "code",
      "metadata": {
        "id": "HVL-MYKYR4EA"
      },
      "source": [
        "#MDAV a microagregation method \n",
        "def dist(x,y):\n",
        "    return np.linalg.norm(x-y)\n",
        "    \n",
        "#Stack arrays in sequence vertically (row wise)\n",
        "def poprow(arr,i):\n",
        "    pop = arr[i]\n",
        "    new_array = np.vstack((arr[:i],arr[i+1:]))\n",
        "    return new_array,pop\n",
        "\n",
        "def cluster(X, p, k, dist_to_xr):\n",
        "    c = [p]\n",
        "    \n",
        "    if dist_to_xr == None:\n",
        "        distances = [dist(v[:-1],p[:-1]) for v in X]\n",
        "    else:\n",
        "        distances = dist_to_xr\n",
        "        \n",
        "    X = X[np.argpartition(distances, k-1)]\n",
        "    c.extend(X[:k-1])\n",
        "    X = X[k-1:]\n",
        "    \n",
        "    xc = np.array([p[:-1] for p in c], copy=False, ndmin=2)\n",
        "    yc = np.array([p[-1] for p in c], copy=False)\n",
        "    cl = (xc, yc)\n",
        "    \n",
        "    return X, cl\n",
        "\n",
        "def mdav(X, y, k):\n",
        "    D = np.column_stack((X,y)) #D is a matrix of variables\n",
        "    clusters = []\n",
        "    centroids = []\n",
        "    while len(D) >= 3*k:\n",
        "        # Centroid\n",
        "        xm = np.mean(D, axis=0) #xm is an array includes mean in each variables (each columns)\n",
        "        # Furthest from centroid\n",
        "        xri = np.argmax([dist(v[:-1],xm[:-1]) for v in D])#Find furthest from the centroid in each vector and it's called xri\n",
        "        D, xr = poprow(D, xri)\n",
        "        # Furthest from furthest from centroid\n",
        "        dist_to_xr = [dist(v[:-1],xr[:-1]) for v in D]\n",
        "        xsi = np.argmax(dist_to_xr)\n",
        "        dist_to_xr = dist_to_xr[:xsi]+dist_to_xr[xsi+1:]\n",
        "        D, xs = poprow(D, xsi) \n",
        "\n",
        "        #cluster of xr\n",
        "        D, c = cluster(D, xr, k, dist_to_xr)\n",
        "        clusters.append(c)\n",
        "        #cluster of xs\n",
        "        D, c = cluster(D, xs, k, None)\n",
        "        clusters.append(c)\n",
        "        \n",
        "    if len(D) >= 2*k and len(D) < 3*k:\n",
        "        # Centroid\n",
        "        xm = np.mean(D, axis=0)\n",
        "        # Furthest from centroid\n",
        "        xri = np.argmax([dist(v[:-1],xm[:-1]) for v in D])\n",
        "        D, xr = poprow(D, xri)\n",
        "        #cluster of xr\n",
        "        D, c = cluster(D, xr, k, None)\n",
        "        clusters.append(c)\n",
        "        \n",
        "        # rest of points\n",
        "        xc = np.array([p[:-1] for p in D[:]], copy=False, ndmin=2)\n",
        "        yc = np.array([p[-1] for p in D[:]], copy=False)\n",
        "        cl = (xc, yc)\n",
        "        clusters.append(cl)     \n",
        "    else:\n",
        "        # rest of points\n",
        "        xc = np.array([p[:-1] for p in D[:]], copy=False, ndmin=2)\n",
        "        yc = np.array([p[-1] for p in D[:]], copy=False)\n",
        "        cl = (xc, yc)\n",
        "        clusters.append(cl)\n",
        "    \n",
        "    centroids = np.array([np.mean(c[0],axis=0) for c in clusters], copy=False)\n",
        "    \n",
        "    return clusters, centroids"
      ],
      "execution_count": null,
      "outputs": []
    },
    {
      "cell_type": "code",
      "metadata": {
        "id": "SVsjLoeIibGn",
        "colab": {
          "base_uri": "https://localhost:8080/",
          "height": 52
        },
        "outputId": "2802ab07-47e3-4b0a-886d-f985b911c0bd"
      },
      "source": [
        "#We use smaller K amount\n",
        "import csv\n",
        "import time\n",
        "import statistics \n",
        "exec_times = []\n",
        "\n",
        "\"\"\"\n",
        "representativity = [0.01,0.02, 0.03, 0.04, 0.05, 0.06, 0.07, 0.08, 0.09,0.1]\n",
        "\n",
        "K = [int(len(X)*r) for r in representativity]#K = [int(len(X_train)*r) for r in representativity]\n",
        "\n",
        "50    100.0\n",
        "75    66.66666666666667\n",
        "100    50.0\n",
        "125    40.0\n",
        "150    33.333333333333336\n",
        "175    28.571428571428573\n",
        "200    25.0\n",
        "225    22.22222222222222\n",
        "250    20.0\n",
        "275    18.181818181818183\n",
        "300    16.666666666666668\n",
        "325    15.384615384615385\n",
        "350    14.285714285714286\n",
        "375    13.333333333333334\n",
        "400    12.5\n",
        "425    11.764705882352942\n",
        "450    11.11111111111111\n",
        "\n",
        "\n",
        "500    10.0\n",
        "550    9.090909090909092\n",
        "600    8.333333333333334\n",
        "650    7.6923076923076925\n",
        "700    7.142857142857143\n",
        "750    6.666666666666667\n",
        "800    6.25\n",
        "850    5.882352941176471\n",
        "900    5.555555555555555\n",
        "950    5.2631578947368425\n",
        "1000    5.0\n",
        "\"\"\"\n",
        "K = 5.0\n",
        "i = 0\n",
        "k = int(5000/K)\n",
        "clusterings = []\n",
        "centroids = []\n",
        "maskedData = []\n",
        "print(f'k = {k}')\n",
        "\n",
        " #for k in K:\n",
        "start = time.time()\n",
        "    #print(k, K)\n",
        "clustering, centroid = mdav(X, y, k)#clustering, centroid = mdav(X_train, y_train, k)\n",
        "clusterings.append(clustering)\n",
        "centroids.append(centroid)\n",
        "\n",
        "\n",
        "with open('clusterings_csv.csv','w',newline='') as fp:\n",
        "   c = csv.writer(fp, delimiter = ',')    \n",
        "   for line in clusterings:\n",
        "    c.writerows(line)\n",
        "################################################################################\n",
        "j=0\n",
        "with open('centroids_csv.csv','w',newline='') as f:\n",
        "    fieldnames = ['Avg. Area Income','Avg. Area House Age','Avg. Area Number of Rooms','Avg. Area Number of Bedrooms', 'Area Population','Price']\n",
        "    z = csv.DictWriter(f, fieldnames=fieldnames)\n",
        "    z.writeheader()\n",
        "    z = csv.writer(f, delimiter = ',')\n",
        "    for line in centroids:\n",
        "      for j in range(0,k):\n",
        "        z.writerows(line)\n",
        "\n",
        "i = 0\n",
        "while i<k:\n",
        " maskedData.append(centroid) \n",
        " i += 1  \n",
        "\n",
        "end = time.time()\n",
        "exec_times.append(end-start)\n",
        "    #arr_ctr_num.append(len(centroids))\n",
        "print(f'Time for calculating = {exec_times}')\n",
        "\n",
        "#Saveing centroids in a file\n",
        "f_centroids = open(\"Centroids.txt\",\"wt\")\n",
        "f_centroids.write(\"\\n\"+str(centroids)+\"\\n\")\n",
        "f_clusters = open(\"Clusers.txt\",\"wt\")\n",
        "f_clusters.write(\"\\n\"+str(clusterings)+\"\\n\")\n",
        "f_maskedData = open(\"MaskedData.txt\",\"wt\")\n",
        "f_maskedData.write(\"\\n\"+str(maskedData)+\"\\n\")\n",
        "f_maskedData.close()\n",
        "f_centroids.close()\n",
        "f_clusters.close()\n",
        "#files.download(\"clusterings_csv.csv\")\n",
        "files.download(\"centroids_csv.csv\")"
      ],
      "execution_count": null,
      "outputs": [
        {
          "output_type": "stream",
          "text": [
            "k = 1000\n",
            "Time for calculating = [0.28157782554626465]\n"
          ],
          "name": "stdout"
        },
        {
          "output_type": "display_data",
          "data": {
            "application/javascript": [
              "\n",
              "    async function download(id, filename, size) {\n",
              "      if (!google.colab.kernel.accessAllowed) {\n",
              "        return;\n",
              "      }\n",
              "      const div = document.createElement('div');\n",
              "      const label = document.createElement('label');\n",
              "      label.textContent = `Downloading \"${filename}\": `;\n",
              "      div.appendChild(label);\n",
              "      const progress = document.createElement('progress');\n",
              "      progress.max = size;\n",
              "      div.appendChild(progress);\n",
              "      document.body.appendChild(div);\n",
              "\n",
              "      const buffers = [];\n",
              "      let downloaded = 0;\n",
              "\n",
              "      const channel = await google.colab.kernel.comms.open(id);\n",
              "      // Send a message to notify the kernel that we're ready.\n",
              "      channel.send({})\n",
              "\n",
              "      for await (const message of channel.messages) {\n",
              "        // Send a message to notify the kernel that we're ready.\n",
              "        channel.send({})\n",
              "        if (message.buffers) {\n",
              "          for (const buffer of message.buffers) {\n",
              "            buffers.push(buffer);\n",
              "            downloaded += buffer.byteLength;\n",
              "            progress.value = downloaded;\n",
              "          }\n",
              "        }\n",
              "      }\n",
              "      const blob = new Blob(buffers, {type: 'application/binary'});\n",
              "      const a = document.createElement('a');\n",
              "      a.href = window.URL.createObjectURL(blob);\n",
              "      a.download = filename;\n",
              "      div.appendChild(a);\n",
              "      a.click();\n",
              "      div.remove();\n",
              "    }\n",
              "  "
            ],
            "text/plain": [
              "<IPython.core.display.Javascript object>"
            ]
          },
          "metadata": {
            "tags": []
          }
        },
        {
          "output_type": "display_data",
          "data": {
            "application/javascript": [
              "download(\"download_035a9f45-5e0f-4a6a-b14e-d95aafece8ca\", \"centroids_csv.csv\", 535115)"
            ],
            "text/plain": [
              "<IPython.core.display.Javascript object>"
            ]
          },
          "metadata": {
            "tags": []
          }
        }
      ]
    },
    {
      "cell_type": "code",
      "metadata": {
        "id": "cNT41qA-xOVL"
      },
      "source": [
        "#SHAP\n",
        "!pip install shap #Install SHAP library\n",
        "#Uploading a dataset from local drive to colab\n",
        "#from google.colab import files\n",
        "#uploaded = files.upload()"
      ],
      "execution_count": null,
      "outputs": []
    },
    {
      "cell_type": "code",
      "metadata": {
        "id": "peF7RkvzsxgJ"
      },
      "source": [
        "#Uploading a dataset from local drive to colab\n",
        "from google.colab import files\n",
        "uploaded = files.upload()"
      ],
      "execution_count": null,
      "outputs": []
    },
    {
      "cell_type": "code",
      "metadata": {
        "id": "ewhcJKanLFaW"
      },
      "source": [
        "import numpy as np # linear algebra\n",
        "import pandas as pd # data processing, CSV file I/O (e.g. pd.read_csv)\n",
        "import matplotlib.pyplot as plt # data visualization\n",
        "import seaborn as sns # statistical data visualization\n",
        "import io\n",
        "\n",
        "##Reading dataset\n",
        "df = pd.read_csv(io.BytesIO(uploaded['USA_Housing.csv'])) #Dataset's name == USA_Housing.csv OR == centroids_csv (ProtectedDataset)k=3.csv \n",
        "# Dataset is now stored in a Pandas Dataframe\n",
        "df.info()\n",
        "\n",
        "# now check for missing values in total bedrooms\n",
        "df.isnull().sum()\n",
        "# ------------------------------------------------------------------"
      ],
      "execution_count": null,
      "outputs": []
    },
    {
      "cell_type": "code",
      "metadata": {
        "id": "Eorls4ngghBL"
      },
      "source": [
        "##Feature Vector and Target Variable\n",
        "X = df[['Avg. Area Income','Avg. Area House Age','Avg. Area Number of Rooms','Avg. Area Number of Bedrooms', 'Area Population']] #Feature Vector\n",
        "y = df['Price'] #Target Variable\n",
        "\n",
        "##Splitting the data into train and test data\n",
        "from sklearn.model_selection import train_test_split\n",
        "X_train, X_test, y_train, y_test = train_test_split(X, y, test_size = 0.3, random_state = 0)\n",
        "\n",
        "\"\"\"\n",
        "print(X_train,y_train)\n",
        "print(\"####################################################################################################\")\n",
        "print(X_test,y_test)\n",
        "\"\"\"\n",
        "##Building the model with --> Random Forest Classifier\n",
        "from sklearn.ensemble import RandomForestRegressor\n",
        "model = RandomForestRegressor(max_depth=6, random_state=0, n_estimators=10)\n",
        "model.fit(X_train, y_train)\n",
        "\n",
        "##Generating Predictions\n",
        "y_pred = model.predict(X_test)\n",
        "print(\"Prediction: \", y_pred)\n",
        "\n",
        "##Evaluating Performance\n",
        "from sklearn.metrics import mean_squared_error\n",
        "mse = mean_squared_error(y_test, y_pred)**(0.5)\n",
        "print(\"mean_squared_error: \", mse)\n"
      ],
      "execution_count": null,
      "outputs": []
    },
    {
      "cell_type": "code",
      "metadata": {
        "id": "-XPl5LFmkgJb"
      },
      "source": [
        "##SHAP Explanation\n",
        "#Force Plots\n",
        "# import shap library\n",
        "import shap \n",
        "from IPython.display import display\n",
        "\n",
        "# explain the model's predictions using SHAP\n",
        "explainer = shap.TreeExplainer(model)\n",
        "shap_values = explainer.shap_values(X_train)\n",
        "\n",
        "# visualize the first prediction's explanation \n",
        "shap.initjs()\n",
        "display(shap.force_plot(explainer.expected_value, shap_values[0,:], X_train.iloc[0,:]))\n"
      ],
      "execution_count": null,
      "outputs": []
    },
    {
      "cell_type": "code",
      "metadata": {
        "id": "6szadt_7x9MA"
      },
      "source": [
        "shap.initjs()\n",
        "# visualize the training set predictions\n",
        "#shap.force_plot(explainer.expected_value, shap_values, X_train)\n"
      ],
      "execution_count": null,
      "outputs": []
    },
    {
      "cell_type": "code",
      "metadata": {
        "id": "bd5lIlVnnXK5"
      },
      "source": [
        "##SHAP Feature Importance\n",
        "shap_values = shap.TreeExplainer(model).shap_values(X_train)\n",
        "\n",
        "#x = shap_values.mean()\n",
        "#print(x)\n",
        "#print(shap_values)\n",
        "shap.approximate_interactions(2,shap_values, X_train)\n",
        "shap.summary_plot(shap_values, X_train, plot_type=\"bar\")\n",
        "\n",
        "##SHAP Summary Plot\n",
        "shap.summary_plot(shap_values, X_train)\n",
        "\"\"\"\n",
        "##SHAP Dependence Plot\n",
        "\n",
        "shap.dependence_plot('Avg. Area Income', shap_values, X_train)\n",
        "shap.dependence_plot('Avg. Area House Age', shap_values, X_train)\n",
        "shap.dependence_plot('Avg. Area Number of Rooms', shap_values, X_train)\n",
        "shap.dependence_plot('Avg. Area Number of Bedrooms', shap_values, X_train)\n",
        "shap.dependence_plot('Area Population', shap_values, X_train)\n",
        "\"\"\""
      ],
      "execution_count": null,
      "outputs": []
    }
  ]
}