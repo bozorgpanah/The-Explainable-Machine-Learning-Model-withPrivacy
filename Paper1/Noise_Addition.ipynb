{
  "nbformat": 4,
  "nbformat_minor": 0,
  "metadata": {
    "colab": {
      "name": "Noise Addition.ipynb",
      "provenance": [],
      "collapsed_sections": [],
      "authorship_tag": "ABX9TyPTKvtv64CzA01pIf0FBkgt",
      "include_colab_link": true
    },
    "kernelspec": {
      "name": "python3",
      "display_name": "Python 3"
    },
    "language_info": {
      "name": "python"
    }
  },
  "cells": [
    {
      "cell_type": "markdown",
      "metadata": {
        "id": "view-in-github",
        "colab_type": "text"
      },
      "source": [
        "<a href=\"https://colab.research.google.com/github/bozorgpanah/The-Explainable-Machine-Learning-Model-withPrivacy/blob/main/Paper1/Noise_Addition.ipynb\" target=\"_parent\"><img src=\"https://colab.research.google.com/assets/colab-badge.svg\" alt=\"Open In Colab\"/></a>"
      ]
    },
    {
      "cell_type": "code",
      "metadata": {
        "id": "1QoXm_p-uUwZ"
      },
      "source": [
        "# Laplace-and-Exponential-mechanisms-for-privacy\n",
        "*******************************************************************************************************************************\n",
        "\"\"\"Application of Laplace and Exponential mechanisms to add random noise to data for differential privacy. \n",
        "Plotting MSE vs. epsilon.\"\"\""
      ],
      "execution_count": null,
      "outputs": []
    },
    {
      "cell_type": "code",
      "metadata": {
        "colab": {
          "resources": {
            "http://localhost:8080/nbextensions/google.colab/files.js": {
              "data": "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",
              "ok": true,
              "headers": [
                [
                  "content-type",
                  "application/javascript"
                ]
              ],
              "status": 200,
              "status_text": ""
            }
          },
          "base_uri": "https://localhost:8080/",
          "height": 730
        },
        "id": "EVw0sXdYpHa8",
        "outputId": "3b1f092c-eec8-4539-db8a-c5d30bc27181"
      },
      "source": [
        "#Uploading a dataset from local drive to colab\n",
        "from google.colab import files\n",
        "uploaded = files.upload()\n",
        "\n",
        "import numpy as np # linear algebra\n",
        "import pandas as pd # data processing, CSV file I/O (e.g. pd.read_csv)\n",
        "import matplotlib.pyplot as plt # data visualization\n",
        "import seaborn as sns # statistical data visualization\n",
        "import io\n",
        "import csv\n",
        "\n",
        "##Reading dataset\n",
        "df = pd.read_csv(io.BytesIO(uploaded['adult (1).csv'])) #Dataset's name == \n",
        "# Dataset is now stored in a Pandas Dataframe\n",
        "df.info()\n",
        "\n",
        "\n",
        "# now check for missing values in total bedrooms\n",
        "df.isnull().sum()\n",
        "# ------------------------------------------------------------------\n"
      ],
      "execution_count": null,
      "outputs": [
        {
          "output_type": "display_data",
          "data": {
            "text/html": [
              "\n",
              "     <input type=\"file\" id=\"files-8404495e-af14-4572-a3c3-a6243174524b\" name=\"files[]\" multiple disabled\n",
              "        style=\"border:none\" />\n",
              "     <output id=\"result-8404495e-af14-4572-a3c3-a6243174524b\">\n",
              "      Upload widget is only available when the cell has been executed in the\n",
              "      current browser session. Please rerun this cell to enable.\n",
              "      </output>\n",
              "      <script src=\"/nbextensions/google.colab/files.js\"></script> "
            ],
            "text/plain": [
              "<IPython.core.display.HTML object>"
            ]
          },
          "metadata": {
            "tags": []
          }
        },
        {
          "output_type": "stream",
          "text": [
            "Saving adult (1).csv to adult (1).csv\n",
            "<class 'pandas.core.frame.DataFrame'>\n",
            "RangeIndex: 32561 entries, 0 to 32560\n",
            "Data columns (total 15 columns):\n",
            " #   Column          Non-Null Count  Dtype \n",
            "---  ------          --------------  ----- \n",
            " 0   Age             32561 non-null  int64 \n",
            " 1   Workclass       32561 non-null  object\n",
            " 2   fnlwgt          32561 non-null  int64 \n",
            " 3   Education       32561 non-null  object\n",
            " 4   Education-Num   32561 non-null  int64 \n",
            " 5   Martial Status  32561 non-null  object\n",
            " 6   Occupation      32561 non-null  object\n",
            " 7   Relationship    32561 non-null  object\n",
            " 8   Race            32561 non-null  object\n",
            " 9   Sex             32561 non-null  object\n",
            " 10  Capital Gain    32561 non-null  int64 \n",
            " 11  Capital Loss    32561 non-null  int64 \n",
            " 12  Hours per week  32561 non-null  int64 \n",
            " 13  Country         32561 non-null  object\n",
            " 14  Target          32561 non-null  object\n",
            "dtypes: int64(6), object(9)\n",
            "memory usage: 3.7+ MB\n"
          ],
          "name": "stdout"
        },
        {
          "output_type": "execute_result",
          "data": {
            "text/plain": [
              "Age               0\n",
              "Workclass         0\n",
              "fnlwgt            0\n",
              "Education         0\n",
              "Education-Num     0\n",
              "Martial Status    0\n",
              "Occupation        0\n",
              "Relationship      0\n",
              "Race              0\n",
              "Sex               0\n",
              "Capital Gain      0\n",
              "Capital Loss      0\n",
              "Hours per week    0\n",
              "Country           0\n",
              "Target            0\n",
              "dtype: int64"
            ]
          },
          "metadata": {
            "tags": []
          },
          "execution_count": 2
        }
      ]
    },
    {
      "cell_type": "code",
      "metadata": {
        "id": "oBxQgoSLYrVe",
        "colab": {
          "base_uri": "https://localhost:8080/"
        },
        "outputId": "7b858cac-ebfc-448e-84e0-d403f456336c"
      },
      "source": [
        "from google.colab import drive\n",
        "drive.mount('/content/drive')"
      ],
      "execution_count": null,
      "outputs": [
        {
          "output_type": "stream",
          "text": [
            "Mounted at /content/drive\n"
          ],
          "name": "stdout"
        }
      ]
    },
    {
      "cell_type": "code",
      "metadata": {
        "colab": {
          "base_uri": "https://localhost:8080/",
          "height": 818
        },
        "id": "oaP8iheGtX8i",
        "outputId": "0e3b293b-b19a-4954-dc55-7b23553b059b"
      },
      "source": [
        "\"\"\" Program to add noise generated from Exponential mechanism\n",
        "    to Original Adult dataset.\n",
        "\"\"\"  \n",
        "# Load the Adult dataset\n",
        "dataset = pd.read_csv(io.BytesIO(uploaded['adult (1).csv']), names=[\"Age\", \"Workclass\", \"fnlwgt\", \"Education\", \"Education-Num\", \"Martial Status\",\n",
        "        \"Occupation\", \"Relationship\", \"Race\", \"Sex\", \"Capital Gain\", \"Capital Loss\",\n",
        "        \"Hours per week\", \"Country\", \"Target\"])\n",
        "\n",
        "dataset.tail()\n",
        "\n",
        "datacount = dataset[\"Hours per week\"].value_counts()#//country\n",
        "\n",
        "# Generate random noise from exponential function.\n",
        "Exponential_noise = np.random.exponential(1)     # Keep max limit = 1\n",
        "\n",
        "print (\"Exponentially generated noise:\", Exponential_noise)\n",
        "\n",
        "\"\"\"Add random noise drawn from Exponential function to Original data count\"\"\"\n",
        "noisydata = datacount + Exponential_noise\n",
        "\n",
        "#save noisy dataset\n",
        "dataset[\"Hours per week\"] = noisydata#//Country\n",
        "\n",
        "datacount_noisy = dataset[\"Hours per week\"].value_counts()##Country\n",
        "\n",
        "\n",
        "#print(dataset)\n",
        "dataset.to_csv (\"MaskedDataset_Exponential_noise.csv\")\n",
        "files.download(\"MaskedDataset_Exponential_noise.csv\")\n",
        "\n",
        "\n",
        "#Plot histogram for Noisy data\n",
        "noisydata.plot(kind=\"bar\", color = 'r')"
      ],
      "execution_count": null,
      "outputs": [
        {
          "output_type": "stream",
          "text": [
            "40                15217\n",
            "50                 2819\n",
            "45                 1824\n",
            "60                 1475\n",
            "35                 1297\n",
            "                  ...  \n",
            "82                    1\n",
            "87                    1\n",
            "Hours per week        1\n",
            "74                    1\n",
            "92                    1\n",
            "Name: Hours per week, Length: 95, dtype: int64\n",
            "Exponentially generated noise: 0.5576869747120821\n",
            "noisy data::::::::::::: 40                15217.557687\n",
            "50                 2819.557687\n",
            "45                 1824.557687\n",
            "60                 1475.557687\n",
            "35                 1297.557687\n",
            "                      ...     \n",
            "82                    1.557687\n",
            "87                    1.557687\n",
            "Hours per week        1.557687\n",
            "74                    1.557687\n",
            "92                    1.557687\n",
            "Name: Hours per week, Length: 95, dtype: float64\n",
            "datacount_noisy\n",
            "Series([], Name: Hours per week, dtype: int64)\n"
          ],
          "name": "stdout"
        },
        {
          "output_type": "display_data",
          "data": {
            "application/javascript": [
              "\n",
              "    async function download(id, filename, size) {\n",
              "      if (!google.colab.kernel.accessAllowed) {\n",
              "        return;\n",
              "      }\n",
              "      const div = document.createElement('div');\n",
              "      const label = document.createElement('label');\n",
              "      label.textContent = `Downloading \"${filename}\": `;\n",
              "      div.appendChild(label);\n",
              "      const progress = document.createElement('progress');\n",
              "      progress.max = size;\n",
              "      div.appendChild(progress);\n",
              "      document.body.appendChild(div);\n",
              "\n",
              "      const buffers = [];\n",
              "      let downloaded = 0;\n",
              "\n",
              "      const channel = await google.colab.kernel.comms.open(id);\n",
              "      // Send a message to notify the kernel that we're ready.\n",
              "      channel.send({})\n",
              "\n",
              "      for await (const message of channel.messages) {\n",
              "        // Send a message to notify the kernel that we're ready.\n",
              "        channel.send({})\n",
              "        if (message.buffers) {\n",
              "          for (const buffer of message.buffers) {\n",
              "            buffers.push(buffer);\n",
              "            downloaded += buffer.byteLength;\n",
              "            progress.value = downloaded;\n",
              "          }\n",
              "        }\n",
              "      }\n",
              "      const blob = new Blob(buffers, {type: 'application/binary'});\n",
              "      const a = document.createElement('a');\n",
              "      a.href = window.URL.createObjectURL(blob);\n",
              "      a.download = filename;\n",
              "      div.appendChild(a);\n",
              "      a.click();\n",
              "      div.remove();\n",
              "    }\n",
              "  "
            ],
            "text/plain": [
              "<IPython.core.display.Javascript object>"
            ]
          },
          "metadata": {
            "tags": []
          }
        },
        {
          "output_type": "display_data",
          "data": {
            "application/javascript": [
              "download(\"download_d72d6494-b766-440e-88bf-18d51964c7eb\", \"MaskedDataset_Exponential_noise.csv\", 3931382)"
            ],
            "text/plain": [
              "<IPython.core.display.Javascript object>"
            ]
          },
          "metadata": {
            "tags": []
          }
        },
        {
          "output_type": "execute_result",
          "data": {
            "text/plain": [
              "<matplotlib.axes._subplots.AxesSubplot at 0x7f9cc8bfd310>"
            ]
          },
          "metadata": {
            "tags": []
          },
          "execution_count": 10
        },
        {
          "output_type": "display_data",
          "data": {
            "image/png": "[encoded data removed]",
            "text/plain": [
              "<Figure size 432x288 with 1 Axes>"
            ]
          },
          "metadata": {
            "tags": [],
            "needs_background": "light"
          }
        }
      ]
    },
    {
      "cell_type": "code",
      "metadata": {
        "colab": {
          "base_uri": "https://localhost:8080/",
          "height": 576
        },
        "id": "QIefN3nqvPqt",
        "outputId": "94b5f342-d4e3-45e9-8b55-3d7fa2e1526e"
      },
      "source": [
        "# Implementing Laplace mechanism on Adult dataset by adding Laplacian random noise\n",
        "import sys\n",
        "# Load Adult dataset \n",
        "dataset = pd.read_csv(io.BytesIO(uploaded['adult (1).csv']), names=[\"Age\", \"Workclass\", \"fnlwgt\", \"Education\", \"Education-Num\", \"Martial Status\",\n",
        "        \"Occupation\", \"Relationship\", \"Race\", \"Sex\", \"Capital Gain\", \"Capital Loss\",\n",
        "        \"Hours per week\", \"Country\", \"Target\"])\n",
        "dataset.tail()\n",
        "\n",
        "# Set parameters for Laplace function implementation\n",
        "location = 1.0\n",
        "scale = 1.0\n",
        "\n",
        "#Find actual data count\n",
        "datacount = dataset[\"Country\"].value_counts()\n",
        "\n",
        "# Gets random laplacian noise for all values\n",
        "Laplacian_noise = np.random.laplace(location,scale, len(datacount))\n",
        "print('Laplacian_noise: ')\n",
        "print(Laplacian_noise)\n",
        "\n",
        "# Add random noise generated from Laplace function to actual count\n",
        "noisydata = datacount + Laplacian_noise\n",
        "\n",
        "#save noisy dataset\n",
        "dataset[\"Country\"] = noisydata\n",
        "#print(dataset)\n",
        "dataset.to_csv (\"MaskedDataset_Laplacian_noise.csv\")\n",
        "files.download(\"MaskedDataset_Laplacian_noise.csv\")\n",
        "\n",
        "# Generate noisy histogram\n",
        "noisydata.plot(kind=\"bar\",color = 'g')\n"
      ],
      "execution_count": null,
      "outputs": [
        {
          "output_type": "stream",
          "text": [
            "Laplacian_noise: \n",
            "[ 2.51410972  3.09470733  3.45215005  1.07454152  0.92825463  2.46279113\n",
            "  1.30813022  0.29963462  1.36550434  0.80475075  0.10011901 -0.19911336\n",
            "  1.29844498  0.81785598 -0.72643027  2.49636592  0.88269109  0.46369662\n",
            "  4.13248959  3.03779131  0.75739535 -1.8137464   0.10529963  1.1282766\n",
            "  0.49485484 -1.16525631  0.84959789  1.00921522  1.16868467  0.33230099\n",
            "  0.42300673 -0.2379981   1.31494004  0.8103884  -2.66153263  1.7064903\n",
            "  1.34491435  2.07087072  1.46350319  3.91330416  1.74744741  0.34828305\n",
            "  0.95510471]\n"
          ],
          "name": "stdout"
        },
        {
          "output_type": "display_data",
          "data": {
            "application/javascript": [
              "\n",
              "    async function download(id, filename, size) {\n",
              "      if (!google.colab.kernel.accessAllowed) {\n",
              "        return;\n",
              "      }\n",
              "      const div = document.createElement('div');\n",
              "      const label = document.createElement('label');\n",
              "      label.textContent = `Downloading \"${filename}\": `;\n",
              "      div.appendChild(label);\n",
              "      const progress = document.createElement('progress');\n",
              "      progress.max = size;\n",
              "      div.appendChild(progress);\n",
              "      document.body.appendChild(div);\n",
              "\n",
              "      const buffers = [];\n",
              "      let downloaded = 0;\n",
              "\n",
              "      const channel = await google.colab.kernel.comms.open(id);\n",
              "      // Send a message to notify the kernel that we're ready.\n",
              "      channel.send({})\n",
              "\n",
              "      for await (const message of channel.messages) {\n",
              "        // Send a message to notify the kernel that we're ready.\n",
              "        channel.send({})\n",
              "        if (message.buffers) {\n",
              "          for (const buffer of message.buffers) {\n",
              "            buffers.push(buffer);\n",
              "            downloaded += buffer.byteLength;\n",
              "            progress.value = downloaded;\n",
              "          }\n",
              "        }\n",
              "      }\n",
              "      const blob = new Blob(buffers, {type: 'application/binary'});\n",
              "      const a = document.createElement('a');\n",
              "      a.href = window.URL.createObjectURL(blob);\n",
              "      a.download = filename;\n",
              "      div.appendChild(a);\n",
              "      a.click();\n",
              "      div.remove();\n",
              "    }\n",
              "  "
            ],
            "text/plain": [
              "<IPython.core.display.Javascript object>"
            ]
          },
          "metadata": {
            "tags": []
          }
        },
        {
          "output_type": "display_data",
          "data": {
            "application/javascript": [
              "download(\"download_98dc8c9e-bc22-4853-b1df-be4d33a1711b\", \"MaskedDataset_Laplacian_noise.csv\", 3563192)"
            ],
            "text/plain": [
              "<IPython.core.display.Javascript object>"
            ]
          },
          "metadata": {
            "tags": []
          }
        },
        {
          "output_type": "execute_result",
          "data": {
            "text/plain": [
              "<matplotlib.axes._subplots.AxesSubplot at 0x7f0ebdc59310>"
            ]
          },
          "metadata": {
            "tags": []
          },
          "execution_count": 33
        },
        {
          "output_type": "display_data",
          "data": {
            "image/png": "[encoded data removed]",
            "text/plain": [
              "<Figure size 432x288 with 1 Axes>"
            ]
          },
          "metadata": {
            "tags": [],
            "needs_background": "light"
          }
        }
      ]
    },
    {
      "cell_type": "code",
      "metadata": {
        "colab": {
          "base_uri": "https://localhost:8080/",
          "height": 313
        },
        "id": "1q9VOwzOyHKe",
        "outputId": "1bba1790-0399-412b-d673-b76dfddaebdc"
      },
      "source": [
        "# Program to compute Mean Squared Error(MSE) and show plot between Epsilon and MSE\n",
        "# in Laplace Mechanism\n",
        "import pandas as pd\n",
        "import matplotlib.pyplot as plt\n",
        "import numpy as np\n",
        "\n",
        "#Load the Adult dataset \n",
        "dataset =  pd.read_csv(io.BytesIO(uploaded['adult (1).csv']), names=[\"Age\", \"Workclass\", \"fnlwgt\", \"Education\", \"Education-Num\", \"Martial Status\",\n",
        "        \"Occupation\", \"Relationship\", \"Race\", \"Sex\", \"Capital Gain\", \"Capital Loss\",\n",
        "        \"Hours per week\", \"Country\", \"Target\"])\n",
        "dataset.tail()\n",
        "\n",
        "# Laplace function implementation, takes epsilon as an argument\n",
        "def Laplacian_func(eps):     \n",
        " x = 0.01\n",
        " mu = 0                    # mean\n",
        " return ((eps/2.0) * np.exp(-abs(x - mu)*eps))\n",
        " \n",
        "datacount = dataset[\"Country\"].value_counts()    #Store actual data count\n",
        "tmp = []\n",
        "mselist = []\n",
        "fig=plt.figure()\n",
        "\n",
        "# Call laplace for all values of epsilon, calculate MSE for each case and plot.\n",
        "noise = Laplacian_func(0.1)\n",
        "noisydata = datacount + noise\n",
        "mse = ((datacount- noisydata)**2).mean(axis=0)  \n",
        "mselist.append(mse)\n",
        "noise = Laplacian_func(0.2)\n",
        "noisydata = datacount + noise\n",
        "mse = ((datacount-noisydata)**2).mean(axis=0) \n",
        "mselist.append(mse)\n",
        "noise = Laplacian_func(0.3)\n",
        "noisydata = datacount + noise\n",
        "mse = ((datacount-noisydata)**2).mean(axis=0)  \n",
        "mselist.append(mse)\n",
        "noise = Laplacian_func(0.4)\n",
        "noisydata = datacount + noise\n",
        "mse = ((datacount-noisydata)**2).mean(axis=0) \n",
        "mselist.append(mse)\n",
        "noise = Laplacian_func(0.5)\n",
        "noisydata = datacount + noise\n",
        "mse = ((datacount-noisydata)**2).mean(axis=0)\n",
        "mselist.append(mse)\n",
        "noise = Laplacian_func(0.6)\n",
        "noisydata = datacount + noise\n",
        "mse = ((datacount-noisydata)**2).mean(axis=0)\n",
        "mselist.append(mse)\n",
        "noise = Laplacian_func(0.7)\n",
        "noisydata = datacount + noise\n",
        "mse = ((datacount-noisydata)**2).mean(axis=0)\n",
        "mselist.append(mse)\n",
        "noise = Laplacian_func(0.8)\n",
        "noisydata = datacount + noise\n",
        "mse = ((datacount-noisydata)**2).mean(axis=0)\n",
        "mselist.append(mse)\n",
        "noise = Laplacian_func(0.9)\n",
        "noisydata = datacount + noise\n",
        "mse = ((datacount-noisydata)**2).mean(axis=0)\n",
        "mselist.append(mse)\n",
        "noise = Laplacian_func(1.0)\n",
        "noisydata = datacount + noise\n",
        "mse = ((datacount-noisydata)**2).mean(axis=0)\n",
        "mselist.append(mse)\n",
        "\n",
        "for i in range(0,50):\n",
        "  for j in list(mselist):\n",
        "      tmp.append(j)      \n",
        "print (\"Average Mean Square Error is: \") \n",
        "print (np.average(tmp))   \n",
        "\n",
        "epsval = [1.0] \n",
        "x = 1.0\n",
        "for i in range(1,10):\n",
        "   x -= 0.1\n",
        "   epsval.append(x)   \n",
        "ax = fig.add_subplot(111)\n",
        "ax.plot(epsval,mselist)\n",
        "plt.xlabel('Epsilon')\n",
        "plt.ylabel('MSE')\n",
        "plt.show()\n"
      ],
      "execution_count": null,
      "outputs": [
        {
          "output_type": "stream",
          "text": [
            "Average Mean Square Error is- \n",
            "0.09475009322020045\n"
          ],
          "name": "stdout"
        },
        {
          "output_type": "display_data",
          "data": {
            "image/png": "[encoded data removed]",
            "text/plain": [
              "<Figure size 432x288 with 1 Axes>"
            ]
          },
          "metadata": {
            "tags": [],
            "needs_background": "light"
          }
        }
      ]
    },
    {
      "cell_type": "code",
      "metadata": {
        "id": "-dxUqfrcycIN"
      },
      "source": [
        "# Find sensitivity - New dataset\n",
        "import pandas as pd\n",
        "\n",
        "#Load both datasets - Adult (actual) dataset and modified dataset                                 \n",
        "Actual_dataset = pd.read_csv(io.BytesIO(uploaded['adult (1).csv']), names=[\"Age\", \"Workclass\", \"fnlwgt\", \"Education\", \"Education-Num\", \"Martial Status\",\n",
        "        \"Occupation\", \"Relationship\", \"Race\", \"Sex\", \"Capital Gain\", \"Capital Loss\",\n",
        "        \"Hours per week\", \"Country\", \"Target\"])      \n",
        "Actual_dataset.tail()    \n",
        "\n",
        "Neighbouring_dataset = pd.read_csv(\"adultnew.data.txt\", names=[\"Age\", \"Workclass\", \"fnlwgt\", \"Education\", \"Education-Num\", \"Martial Status\",\n",
        "        \"Occupation\", \"Relationship\", \"Race\", \"Sex\", \"Capital Gain\", \"Capital Loss\",\n",
        "        \"Hours per week\", \"Country\", \"Target\"],engine='python',sep=r'\\s*,\\s*',na_values=\"?\")     \n",
        "Neighbouring_dataset.tail()\n",
        "\n",
        "#Count of Adult dataset \n",
        "Actual_attribute = Actual_dataset[\"Country\"].value_counts()\n",
        "\n",
        "#Count of modified dataset\n",
        "Modified__attribute = Neighbouring_dataset[\"Country\"].value_counts() \n",
        "\n",
        "#Sensitivity between above datasets\n",
        "Sensitivity = max(abs(Modified__attribute - Actual_attribute))\n",
        "print (\"Sensitivity of neighbouring databases is:\", Sensitivity)\n",
        " \n"
      ],
      "execution_count": null,
      "outputs": []
    },
    {
      "cell_type": "code",
      "metadata": {
        "colab": {
          "base_uri": "https://localhost:8080/",
          "height": 437
        },
        "id": "KIZkm3JYaG8B",
        "outputId": "cfdc2d96-fbfc-4d11-ce10-3751416aee27"
      },
      "source": [
        "\"\"\" Program to show implementation of Utility/Score function\n",
        "    to release the name of Most native country \"\"\"\n",
        "    \n",
        "# Import Libraries\n",
        "import pandas as pd\n",
        "import numpy as np\n",
        "\n",
        "#Load the Adult dataset\n",
        "dataset = pd.read_csv(io.BytesIO(uploaded['adult (1).csv']), names=[\"Age\", \"Workclass\", \"fnlwgt\", \"Education\", \"Education-Num\", \"Martial Status\",\n",
        "        \"Occupation\", \"Relationship\", \"Race\", \"Sex\", \"Capital Gain\", \"Capital Loss\",\n",
        "        \"Hours per week\", \"Country\", \"Target\"])\n",
        "dataset.tail()\n",
        "\n",
        "\"\"\"Utility/Score function implementation\"\"\"\n",
        "def Utility_function() :\n",
        "   # Finds country with most number of entries \n",
        "   Utility = ((dataset[\"Country\"].value_counts() / dataset.shape[0])).head(1)\n",
        "   if dataset.dtypes[\"Country\"] == np.object:\n",
        "     dataset[\"Country\"].value_counts().plot(kind=\"bar\", color = 'g')\n",
        "   return Utility  \n",
        "\n",
        "#Call Utility function()\n",
        "utility = Utility_function()  \n",
        "print (\"Most native country is:\", utility)  \n"
      ],
      "execution_count": null,
      "outputs": [
        {
          "output_type": "stream",
          "text": [
            "Most native country is:  United-States    0.895829\n",
            "Name: Country, dtype: float64\n"
          ],
          "name": "stdout"
        },
        {
          "output_type": "display_data",
          "data": {
            "image/png": "[encoded data removed]",
            "text/plain": [
              "<Figure size 432x288 with 1 Axes>"
            ]
          },
          "metadata": {
            "tags": [],
            "needs_background": "light"
          }
        }
      ]
    }
  ]
}